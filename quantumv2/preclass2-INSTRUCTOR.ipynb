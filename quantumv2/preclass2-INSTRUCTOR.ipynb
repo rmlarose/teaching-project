{
 "cells": [
  {
   "cell_type": "markdown",
   "metadata": {},
   "source": [
    "<p style=\"text-align: right;\"> &#9989; Put your name here</p>"
   ]
  },
  {
   "cell_type": "markdown",
   "metadata": {},
   "source": [
    "# <p style=\"text-align: center;\"> Pre-Class Assignment X: Background for Quantum Computing </p>"
   ]
  },
  {
   "cell_type": "code",
   "execution_count": null,
   "metadata": {},
   "outputs": [],
   "source": []
  },
  {
   "cell_type": "markdown",
   "metadata": {},
   "source": [
    "## <p style=\"text-align: center;\"> Itinerary for Quantum Computing Unit </p>"
   ]
  },
  {
   "cell_type": "markdown",
   "metadata": {},
   "source": [
    "<table align=\"center\" style=\"width:50%\">\n",
    "  <tr>\n",
    "    <td style=\"text-align:center\"><b>Assignment</b></td>\n",
    "    <td style=\"text-align:center\"><b>Topic</b></td>\n",
    "    <td style=\"text-align:center\"><b>Description</b></td>\n",
    "  </tr>\n",
    "  <tr>\n",
    "    <td style=\"text-align:center\">Pre Class X, DD/MM/YYYY</td>\n",
    "    <td style=\"text-align:center\">Background for Quantum Computing</td>\n",
    "    <td style=\"text-align:center\">How Computers Store Information</td>\n",
    "  </tr>\n",
    "  <tr>\n",
    "    <td style=\"text-align:center\">In Class X, DD/MM/YYYY</td>\n",
    "    <td style=\"text-align:center\">Information in Quantum States</td>\n",
    "    <td style=\"text-align:center\">Classsical and Quantum Bits</td>\n",
    "  </tr>\n",
    "  <tr>\n",
    "      <td bgcolor=\"yellow\" style=\"text-align:center\">Pre Class X+1, DD/MM/YYYY</td>\n",
    "      <td bgcolor=\"yellow\" style=\"text-align:center\">Software for Quantum Computing</td>\n",
    "      <td bgcolor=\"yellow\" style=\"text-align:center\">High Level Software and the Circuit Model</td>\n",
    "  </tr>\n",
    "  <tr>\n",
    "      <td style=\"text-align:center\">In Class X+1, DD/MM/YYYY</td>\n",
    "      <td style=\"text-align:center\">Programming Quantum Computers</td>\n",
    "      <td style=\"text-align:center\">Manipulating Quantum Bits to Perform Useful Computations</td>\n",
    "  </tr>\n",
    "</table>"
   ]
  }
 ],
 "metadata": {
  "kernelspec": {
   "display_name": "Python 3",
   "language": "python",
   "name": "python3"
  },
  "language_info": {
   "codemirror_mode": {
    "name": "ipython",
    "version": 3
   },
   "file_extension": ".py",
   "mimetype": "text/x-python",
   "name": "python",
   "nbconvert_exporter": "python",
   "pygments_lexer": "ipython3",
   "version": "3.6.8"
  }
 },
 "nbformat": 4,
 "nbformat_minor": 2
}
