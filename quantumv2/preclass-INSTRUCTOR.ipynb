{
 "cells": [
  {
   "cell_type": "markdown",
   "metadata": {},
   "source": [
    "<p style=\"text-align: right;\"> &#9989; Put your name here</p>"
   ]
  },
  {
   "cell_type": "markdown",
   "metadata": {},
   "source": [
    "# <p style=\"text-align: center;\"> Pre-Class Assignment X: Background for Quantum Computing </p>"
   ]
  },
  {
   "cell_type": "markdown",
   "metadata": {},
   "source": [
    "This notebook starts a unit introducing a different model of computation, a model that plays by the rules of <i>quantum</i> physics rather than <i>classical</i> physics.\n",
    "\n",
    "I hope you're not intimidated! Unfortunately, quantum physics gets a bad rap of being inherently confusing. This is not at all the case! Quantum physics sounds strange due to some weird consequences that we'll see shortly, but it's actually really easy to <i>do</i>, involving some simple mathematics that you have probably seen before. And it doesn't require you to know any classical physics! (If you do, you'll see why quantum physics is a strange theory.)\n",
    "\n",
    "Quantum computing is a relatively new field that started in the 1980s and 1990s. Due to recent advances in experimental physics and engineering, we have today some of the world's first quantum computers, and the field has received a lot of attention recently. At the end of this unit, you'll have the opportunity to program a quantum computer!"
   ]
  },
  {
   "cell_type": "markdown",
   "metadata": {},
   "source": [
    "## <p style=\"text-align: center;\"> Itinerary for Quantum Computing Unit </p>"
   ]
  },
  {
   "cell_type": "markdown",
   "metadata": {},
   "source": [
    "<table align=\"center\" style=\"width:50%\">\n",
    "  <tr>\n",
    "    <td style=\"text-align:center\"><b>Assignment</b></td>\n",
    "    <td style=\"text-align:center\"><b>Topic</b></td>\n",
    "    <td style=\"text-align:center\"><b>Description</b></td>\n",
    "  </tr>\n",
    "  <tr>\n",
    "    <td bgcolor=\"yellow\" style=\"text-align:center\">Pre Class X, DD/MM/YYYY</td>\n",
    "    <td bgcolor=\"yellow\" style=\"text-align:center\">Background for Quantum Computing</td>\n",
    "    <td bgcolor=\"yellow\" style=\"text-align:center\">How Computers Store Information</td>\n",
    "  </tr>\n",
    "  <tr>\n",
    "    <td style=\"text-align:center\">In Class X, DD/MM/YYYY</td>\n",
    "    <td style=\"text-align:center\">Information in Quantum States</td>\n",
    "    <td style=\"text-align:center\">Classsical and Quantum Bits</td>\n",
    "  </tr>\n",
    "  <tr>\n",
    "      <td style=\"text-align:center\">Pre Class X+1, DD/MM/YYYY</td>\n",
    "      <td style=\"text-align:center\">Software for Quantum Computing</td>\n",
    "      <td style=\"text-align:center\">High Level Software and the Circuit Model</td>\n",
    "  </tr>\n",
    "  <tr>\n",
    "      <td style=\"text-align:center\">In Class X+1, DD/MM/YYYY</td>\n",
    "      <td style=\"text-align:center\">Programming Quantum Computers</td>\n",
    "      <td style=\"text-align:center\">Manipulating Quantum Bits to Perform Useful Computations</td>\n",
    "  </tr>\n",
    "</table>"
   ]
  },
  {
   "cell_type": "markdown",
   "metadata": {},
   "source": [
    "### <p style=\"text-align: center;\"> Before you start... </p>"
   ]
  },
  {
   "cell_type": "markdown",
   "metadata": {},
   "source": [
    "Take ten seconds to answer these pre-assignment survey questions:"
   ]
  },
  {
   "cell_type": "code",
   "execution_count": null,
   "metadata": {},
   "outputs": [],
   "source": [
    "from IPython.display import HTML\n",
    "HTML(\n",
    "\"\"\"\n",
    "<iframe \n",
    "\tsrc=\"https://goo.gl/forms/aTOqrX354o9n52r92\" \n",
    "\twidth=\"80%\" \n",
    "\theight=\"1200px\" \n",
    "\tframeborder=\"0\" \n",
    "\tmarginheight=\"0\" \n",
    "\tmarginwidth=\"0\">\n",
    "\tLoading...\n",
    "</iframe>\n",
    "\"\"\"\n",
    ")"
   ]
  },
  {
   "cell_type": "markdown",
   "metadata": {},
   "source": [
    "## <p style=\"text-align: center;\"> Learning Goals for Today's Pre-Class Assignment </p>"
   ]
  },
  {
   "cell_type": "markdown",
   "metadata": {},
   "source": [
    "By the end of today's pre-class assignment, you should:\n",
    "\n",
    "\n",
    "1. Describe how computers store information using binary digits.\n",
    "1. State the fundamental difference between classical and quantum computers in terms of how they store information.\n",
    "1. Review/learn <b><font color=\"green\">complex numbers</font></b>, <b><font color=\"red\">probability</font></b> distributions, and <b><font color=\"blue\">vectors</font></b> to more deeply understand quantum binary digits."
   ]
  },
  {
   "cell_type": "markdown",
   "metadata": {},
   "source": [
    "# <p style=\"text-align: center;\"> How Computers Store Information </p>"
   ]
  },
  {
   "cell_type": "markdown",
   "metadata": {},
   "source": [
    "Watch the following video to learn about <b>binary digits</b>, or <b>bits</b>, the fundamental unit of information for all data in a computer."
   ]
  },
  {
   "cell_type": "code",
   "execution_count": null,
   "metadata": {
    "scrolled": false
   },
   "outputs": [],
   "source": [
    "from IPython.display import YouTubeVideo\n",
    "YouTubeVideo(\"USCBCmwMCDA\", width=640, height=360)"
   ]
  },
  {
   "cell_type": "markdown",
   "metadata": {},
   "source": [
    "<b>Question:</b> What are the possible values of a bit?"
   ]
  },
  {
   "cell_type": "markdown",
   "metadata": {},
   "source": [
    "<font size=8 color=\"#009600\">&#9998;</font> **Answer:** Erase the contents of this cell and put your answer here!"
   ]
  },
  {
   "cell_type": "markdown",
   "metadata": {},
   "source": [
    "<b>Question:</b> All data on a computer--including text, images, and sound--is stored in bits. Pick one of these (text, images, or sound) and explain how bits are used to represent this information."
   ]
  },
  {
   "cell_type": "markdown",
   "metadata": {},
   "source": [
    "<font size=8 color=\"#009600\">&#9998;</font> **Answer:** Erase the contents of this cell and put your answer here!"
   ]
  },
  {
   "cell_type": "markdown",
   "metadata": {},
   "source": [
    "<b>Question:</b> What do we use to physically represent bits in computers?"
   ]
  },
  {
   "cell_type": "markdown",
   "metadata": {},
   "source": [
    "<font size=8 color=\"#009600\">&#9998;</font> **Answer:** Erase the contents of this cell and put your answer here!"
   ]
  },
  {
   "cell_type": "markdown",
   "metadata": {},
   "source": [
    "# <p style=\"text-align: center;\"> How Quantum Computers Store Information </p>"
   ]
  },
  {
   "cell_type": "markdown",
   "metadata": {},
   "source": [
    "Recall the last statement from the above video on bits and data:\n",
    "\n",
    "<blockquote> <i> <font size=\"4\"> \"If you want to understand how computers work on the inside, it all comes down to these simple ones and zeros and the electrical signals in the circuits behind them.\" </font> </i> </blockquote>\n",
    "\n",
    "In the same way, if you want to understand how <b>quantum</b> computers work, it all comes down to how information is stored.\n",
    "\n",
    "<blockquote> <i> <font size=\"4\"> Quantum computers store information in <b>quantum bits</b>, or <b>qubits</b> (pronounced \"cue bits\") for short. </font> </i> </blockquote>\n",
    "\n",
    "Watch the following short video to get introduced to qubits."
   ]
  },
  {
   "cell_type": "code",
   "execution_count": null,
   "metadata": {},
   "outputs": [],
   "source": [
    "from IPython.display import YouTubeVideo\n",
    "YouTubeVideo(\"KBpYK3i3kDs\",width=640,height=360)"
   ]
  },
  {
   "cell_type": "markdown",
   "metadata": {},
   "source": [
    "To understand a qubit, we only have to understand three concepts.\n",
    "\n",
    "1. Complex Numbers.\n",
    "1. Probability.\n",
    "1. Vectors.\n",
    "\n",
    "Watch the next three videos to see each concept in turn, and complete the exercises to test your understanding. "
   ]
  },
  {
   "cell_type": "code",
   "execution_count": null,
   "metadata": {},
   "outputs": [],
   "source": [
    "\"\"\"All imports for the notebook.\"\"\"\n",
    "import numpy as np\n",
    "import matplotlib.pyplot as plt"
   ]
  },
  {
   "cell_type": "markdown",
   "metadata": {},
   "source": [
    "# <p style=\"text-align: center;\"> Three Key Concepts </p>"
   ]
  },
  {
   "cell_type": "markdown",
   "metadata": {},
   "source": [
    "## <p style=\"text-align: center;\"> Concept #1: <font color=\"green\">Complex Numbers</font> </p>"
   ]
  },
  {
   "cell_type": "markdown",
   "metadata": {},
   "source": [
    "Watch the following video on complex numbers."
   ]
  },
  {
   "cell_type": "code",
   "execution_count": null,
   "metadata": {},
   "outputs": [],
   "source": [
    "from IPython.display import YouTubeVideo\n",
    "YouTubeVideo(\"3AmdT0CsLbk\",width=640,height=360)"
   ]
  },
  {
   "cell_type": "markdown",
   "metadata": {},
   "source": [
    "### <p style=\"text-align: center;\"> <font color=\"green\">Video Recap</font> </p>"
   ]
  },
  {
   "cell_type": "markdown",
   "metadata": {},
   "source": [
    "* The <b><font color=\"green\">imaginary unit</font></b>, which we'll denote $i$, is defined by the property that $i^2 = -1$. \n",
    "\n",
    "* A <b><font color=\"green\">complex number</font></b> has the form\n",
    "\n",
    "\\begin{equation}\n",
    "    \\alpha = a + b i\n",
    "\\end{equation}\n",
    "\n",
    "where $a$ and $b$ are real numbers. \n",
    "\n",
    "* The <b><font color=\"green\">addition of two complex numbers</font></b> is defined by\n",
    "\n",
    "\\begin{equation}\n",
    "        \\alpha + \\beta = (a + b i) + (c + d i) := (a + c) + (b + d)i .\n",
    "\\end{equation}\n",
    "\n",
    "* We define the <b><font color=\"green\">complex conjugate</font></b> of a complex number $\\alpha = a + bi$ to be\n",
    "\n",
    "\\begin{equation}\n",
    "    \\alpha^* := a - bi .\n",
    "\\end{equation}\n",
    "\n",
    "(That is, we flip the sign of the imaginary part.) \n",
    "\n",
    "* The <b><font color=\"green\">modulus squared</font></b> of $\\alpha$ is defined to be the product of itself with its complex conjugate:\n",
    "\n",
    "\\begin{equation}\n",
    "    |\\alpha|^2 := \\alpha^* \\alpha = a^2 + b^2\n",
    "\\end{equation}\n",
    "\n",
    "As you might guess, the <b><font color=\"green\">modulus</font></b> is just the square root of the modulus squared."
   ]
  },
  {
   "cell_type": "markdown",
   "metadata": {},
   "source": [
    "### <p style=\"text-align: center;\"> <font color=\"green\">Exercise: Working with Complex Numbers</font> </p>"
   ]
  },
  {
   "cell_type": "code",
   "execution_count": null,
   "metadata": {},
   "outputs": [],
   "source": [
    "\"\"\"Working with complex numbers in Python.\"\"\"\n",
    "# define two complex numbers\n",
    "alpha = 1 + 2j\n",
    "beta = 3 - 4j\n",
    "\n",
    "# TODO: print out the type of alpha and beta here!\n",
    "print(type(alpha))\n",
    "\n",
    "# TODO: print out the sum of a and b here!\n",
    "print(alpha + beta)\n",
    "\n",
    "# TODO: print out the complex conjugate of a and b here!\n",
    "print(alpha.conjugate())\n",
    "print(beta.conjugate())\n",
    "\n",
    "# TODO: print out the modulus squared of a and b here!\n",
    "print(abs(alpha)**2) # or print(a.conjugate() * a)\n",
    "print(abs(beta)**2) # or print(b.conjugate() * b)"
   ]
  },
  {
   "cell_type": "code",
   "execution_count": null,
   "metadata": {},
   "outputs": [],
   "source": [
    "\"\"\"Exercise: complete this cell!\"\"\"\n",
    "# some complex numbers\n",
    "alpha = 1 + 1j        # greek letter, pronounced AL-fuh\n",
    "beta = 1 - 1j         # greek letter, pronounced BAY-tuh\n",
    "\n",
    "# TODO: normalize the above complex numbers\n",
    "alpha_normalized = alpha / abs(alpha)\n",
    "beta_normalized = beta / abs(beta)\n",
    "\n",
    "print(alpha_normalized)\n",
    "print(beta_normalized)"
   ]
  },
  {
   "cell_type": "markdown",
   "metadata": {},
   "source": [
    "## <p style=\"text-align: center;\"> Concept #2: <font color=\"red\">Probability</font> </p>"
   ]
  },
  {
   "cell_type": "markdown",
   "metadata": {},
   "source": [
    "Watch the following video on probability distributions."
   ]
  },
  {
   "cell_type": "code",
   "execution_count": null,
   "metadata": {},
   "outputs": [],
   "source": [
    "# TODO: replace with probability video\n",
    "from IPython.display import YouTubeVideo\n",
    "YouTubeVideo(\"rfmmhXzi5lk\",width=640,height=360)"
   ]
  },
  {
   "cell_type": "markdown",
   "metadata": {},
   "source": [
    "###  <p style=\"text-align: center;\"> <font color=\"red\">Video Recap</font> </p>"
   ]
  },
  {
   "cell_type": "markdown",
   "metadata": {},
   "source": [
    "A <b><font color=\"red\">probability distribution</font></b> as a list of numbers $p_1, ..., p_n$ that satisfy the followinging conditions:\n",
    "\n",
    "* Each probability is non-negative.\n",
    "\n",
    "\\begin{equation}\n",
    "p_i \\ge 0\n",
    "\\end{equation}\n",
    "\n",
    "* The sum over all probabilites is equal to one.\n",
    "\n",
    "\\begin{equation}\n",
    "\\sum_{i = 1}^{n} p_i = 1 .\n",
    "\\end{equation}"
   ]
  },
  {
   "cell_type": "markdown",
   "metadata": {},
   "source": [
    "### <p style=\"text-align: center;\"> <font color=\"red\">Exercise: Working with Probabilities</font> </p>"
   ]
  },
  {
   "cell_type": "markdown",
   "metadata": {},
   "source": [
    "**Question:** Could the following list of numbers be a probability distribution? Why or why not?"
   ]
  },
  {
   "cell_type": "code",
   "execution_count": null,
   "metadata": {},
   "outputs": [],
   "source": [
    "\"\"\"Potential probability distribution.\"\"\"\n",
    "distribution = np.array([0.1, 0.3, 0.2, 0.2, 0.1, 0.2])"
   ]
  },
  {
   "cell_type": "markdown",
   "metadata": {},
   "source": [
    "<font size=8 color=\"#009600\">&#9998;</font> **Answer:** Erase the contents of this cell and put your answer here!"
   ]
  },
  {
   "cell_type": "markdown",
   "metadata": {},
   "source": [
    "<font size=8 color=\"#009600\">&#9998;</font> **Answer:** No, the probabilities do not add up to one."
   ]
  },
  {
   "cell_type": "markdown",
   "metadata": {},
   "source": [
    "**Question:** Write a function, called `is_valid`, that inputs a numpy array and returns `True` if the list of numbers defines a valid probability distribution, else returns `False`."
   ]
  },
  {
   "cell_type": "code",
   "execution_count": null,
   "metadata": {},
   "outputs": [],
   "source": [
    "\"\"\"Answer: put code for implementing your function here!\"\"\"\n",
    "def is_valid(array):\n",
    "    pass"
   ]
  },
  {
   "cell_type": "code",
   "execution_count": null,
   "metadata": {},
   "outputs": [],
   "source": [
    "\"\"\"ANSWER.\"\"\"\n",
    "def is_valid(array):\n",
    "    if any(array < 0) or sum(array) != 1:\n",
    "        return False\n",
    "    return True"
   ]
  },
  {
   "cell_type": "markdown",
   "metadata": {},
   "source": [
    "Run the next cell to test your function. If your function is correct, no errors should be thrown."
   ]
  },
  {
   "cell_type": "code",
   "execution_count": null,
   "metadata": {},
   "outputs": [],
   "source": [
    "\"\"\"Run this cell to test your function.\"\"\"\n",
    "assert is_valid(np.array([0.5, 0.3, 0.2]))\n",
    "assert not is_valid(np.array([0.2, 0.4, 0.2]))\n",
    "assert not is_valid(np.array([1.0, -1.0, 1.0]))"
   ]
  },
  {
   "cell_type": "markdown",
   "metadata": {},
   "source": [
    "## <p style=\"text-align: center;\"> Concept #3: <font color=\"blue\">Linear Algebra & Vectors </font> </p>"
   ]
  },
  {
   "cell_type": "markdown",
   "metadata": {},
   "source": [
    "Watch the following video on vectors."
   ]
  },
  {
   "cell_type": "code",
   "execution_count": null,
   "metadata": {},
   "outputs": [],
   "source": [
    "# TODO: replace with vectors video\n",
    "from IPython.display import YouTubeVideo\n",
    "YouTubeVideo(\"klDm1eC1gxg\",width=640,height=360)"
   ]
  },
  {
   "cell_type": "markdown",
   "metadata": {},
   "source": [
    "### <p style=\"text-align: center;\"> <font color=\"blue\">Video Recap</font> </p>"
   ]
  },
  {
   "cell_type": "markdown",
   "metadata": {},
   "source": [
    "* A <b><font color=\"blue\">vector</font></b> is the formal mathematical term for a list of numbers. An example of a vector is\n",
    "\n",
    "\\begin{equation}\n",
    "    |0\\rangle := \\left[ \\begin{matrix}\n",
    "    1 \\\\\n",
    "    0 \\\\\n",
    "    \\end{matrix} \\right],\n",
    "\\end{equation}\n",
    "\n",
    "and another example of a vector is\n",
    "\n",
    "\\begin{equation}\n",
    "    |1\\rangle := \\left[ \\begin{matrix}\n",
    "    0 \\\\\n",
    "    1 \\\\\n",
    "    \\end{matrix} \\right]\n",
    "\\end{equation}\n",
    "\n",
    "* <font color=\"blue\"><b>Vector addition</b></font> is defined component-wise. For example,\n",
    "\n",
    "\\begin{equation}\n",
    "    |0\\rangle + |1\\rangle = \\left[ \\begin{matrix}\n",
    "    1 \\\\\n",
    "    0 \\\\\n",
    "    \\end{matrix} \\right] +\n",
    "    \\left[ \\begin{matrix}\n",
    "    0 \\\\\n",
    "    1 \\\\\n",
    "    \\end{matrix} \\right]\n",
    "    =\n",
    "    \\left[ \\begin{matrix}\n",
    "    1 + 0 \\\\\n",
    "    0 + 1 \\\\\n",
    "    \\end{matrix} \\right]\n",
    "    =\n",
    "    \\left[ \\begin{matrix}\n",
    "    1 \\\\\n",
    "    1 \\\\\n",
    "    \\end{matrix} \\right]\n",
    "\\end{equation}\n",
    "\n",
    "* We can also take <font color=\"blue\"><b>scalar multiples</b></font> of vectors, for example\n",
    "\n",
    "\\begin{equation}\n",
    "    \\alpha |0\\rangle = \\alpha \\left[ \\begin{matrix}\n",
    "    1 \\\\\n",
    "    0 \\\\\n",
    "    \\end{matrix} \\right]\n",
    "    =\n",
    "    \\left[ \\begin{matrix}\n",
    "    \\alpha \\cdot 1 \\\\\n",
    "    \\alpha \\cdot 0 \\\\\n",
    "    \\end{matrix} \\right]\n",
    "    =\n",
    "    \\left[ \\begin{matrix}\n",
    "    \\alpha \\\\\n",
    "    0 \\\\\n",
    "    \\end{matrix} \\right].\n",
    "\\end{equation}\n",
    "\n",
    "In general, we multiply each component of the vector by the number $\\alpha$. \n",
    "\n",
    "* In Python, Numpy arrays handle vector operations for us."
   ]
  },
  {
   "cell_type": "markdown",
   "metadata": {},
   "source": [
    "### <p style=\"text-align: center;\"> <font color=\"blue\">Exercise: Working with Vectors</font> </p>"
   ]
  },
  {
   "cell_type": "code",
   "execution_count": null,
   "metadata": {},
   "outputs": [],
   "source": [
    "\"\"\"Using numpy to perform vector operations.\"\"\"\n",
    "# the |0> == zero vector and |1> == one vector from above\n",
    "zero = np.array([1, 0], dtype=np.complex64)\n",
    "one = np.array([0, 1], dtype=np.complex64)\n",
    "\n",
    "print(\"|0> =\", zero)\n",
    "print(\"|1> =\", one)"
   ]
  },
  {
   "cell_type": "code",
   "execution_count": null,
   "metadata": {},
   "outputs": [],
   "source": [
    "\"\"\"Exercise: complete this cell!\"\"\"\n",
    "# print out the sum of zero and one\n",
    "print(zero + one)\n",
    "\n",
    "# compute and print out alpha_normalized * |0>\n",
    "print(alpha_normalized * zero)\n",
    "\n",
    "# compute and print out beta_normalized * |1>\n",
    "print(beta_normalized * one)\n",
    "\n",
    "# compute and print out the sum alpha_normalized * |0> + beta_normalized * |1>\n",
    "qubit = alpha_normalized * zero + beta_normalized * one\n",
    "print(qubit)"
   ]
  },
  {
   "cell_type": "markdown",
   "metadata": {},
   "source": [
    "# <p style=\"text-align: center;\"> Tying Together the Concepts </p>"
   ]
  },
  {
   "cell_type": "markdown",
   "metadata": {},
   "source": [
    "When we introduced a <b>qubit</b>, we said it could be the state $|0\\rangle$, $|1\\rangle$, or superpositions of $|0\\rangle$ and $|1\\rangle$. We can now fully understand this statement.\n",
    "\n",
    "A <b>superposition</b> is a sum of scalar multiples of vectors. So, the most general state of a <b>qubit</b> can be written\n",
    "    \n",
    "\\begin{equation}\n",
    "    |\\psi\\rangle = \\alpha |0\\rangle + \\beta |1\\rangle\n",
    "    =\n",
    "    \\left[ \\begin{matrix}\n",
    "    \\alpha \\\\\n",
    "    \\beta \\\\\n",
    "    \\end{matrix} \\right] .\n",
    "\\end{equation}\n",
    "\n",
    "Unlike bits, which are only 0 or 1, qubits can exist in superposition states. This is the first idea that there is \"more\" processing power with qubits (quantum computers) than with bits (classical computers).\n",
    "\n",
    "\n",
    "However, this isn't the entire story. When we measure qubits, we record either 0 with a probability that depends on $\\alpha$, the coefficient of $|0\\rangle$. In particular,\n",
    "\n",
    "\\begin{equation}\n",
    "    p(\\text{measuring 0}) = |\\alpha|^2\n",
    "\\end{equation}\n",
    "\n",
    "Similarly for measuring 1:\n",
    "\n",
    "\\begin{equation}\n",
    "    p(\\text{measuring 1}) = |\\beta|^2\n",
    "\\end{equation}\n",
    "\n",
    "The next in class assignment will explore measurements further and give you more practice working with qubits.\n",
    "\n",
    "(Brief remark for those interested: A qubit is a special case of a wavefunction in quantum physics. A wavefunction is a mathematical description for a quantum system. In the discrete case (like a qubit), it consists of a vector of complex numbers which determine the probability of measuring a particular state.)"
   ]
  },
  {
   "cell_type": "markdown",
   "metadata": {},
   "source": [
    "# <p style=\"text-align: center;\"> Assignment Wrapup </p>"
   ]
  },
  {
   "cell_type": "markdown",
   "metadata": {},
   "source": [
    "## <p style=\"text-align: center;\"> Survey </p>"
   ]
  },
  {
   "cell_type": "code",
   "execution_count": null,
   "metadata": {
    "scrolled": true
   },
   "outputs": [],
   "source": [
    "HTML(\n",
    "\"\"\"\n",
    "<iframe \n",
    "\tsrc=\"https://goo.gl/forms/n00m87at8mHLAbZN2\" \n",
    "\twidth=\"80%\" \n",
    "\theight=\"1200px\" \n",
    "\tframeborder=\"0\" \n",
    "\tmarginheight=\"0\" \n",
    "\tmarginwidth=\"0\">\n",
    "\tLoading...\n",
    "</iframe>\n",
    "\"\"\"\n",
    ")"
   ]
  },
  {
   "cell_type": "markdown",
   "metadata": {},
   "source": [
    "## <p style=\"text-align: center;\"> Congrats, You're Finished! </p>"
   ]
  },
  {
   "cell_type": "markdown",
   "metadata": {},
   "source": [
    "Now, you just need to submit this assignment by uploading it to the course <a href=\"https://d2l.msu.edu/\">Desire2Learn</a> web page for today's submission folder. (Don't forget to add your name in the first cell.)"
   ]
  },
  {
   "cell_type": "markdown",
   "metadata": {},
   "source": [
    "<p style=\"text-align: right;\"><b>&#169; Copyright 2019, Michigan State University Board of Trustees.</b></p>"
   ]
  }
 ],
 "metadata": {
  "kernelspec": {
   "display_name": "Python 3",
   "language": "python",
   "name": "python3"
  },
  "language_info": {
   "codemirror_mode": {
    "name": "ipython",
    "version": 3
   },
   "file_extension": ".py",
   "mimetype": "text/x-python",
   "name": "python",
   "nbconvert_exporter": "python",
   "pygments_lexer": "ipython3",
   "version": "3.6.8"
  }
 },
 "nbformat": 4,
 "nbformat_minor": 2
}
