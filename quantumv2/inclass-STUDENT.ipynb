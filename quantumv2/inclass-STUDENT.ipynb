{
 "cells": [
  {
   "cell_type": "markdown",
   "metadata": {},
   "source": [
    "<p style=\"text-align: right;\"> &#9989; Put your name here</p>"
   ]
  },
  {
   "cell_type": "markdown",
   "metadata": {},
   "source": [
    "# <p style=\"text-align: center;\"> In-Class Assignment X: Information in Classical and Quantum Bits </p>"
   ]
  },
  {
   "cell_type": "markdown",
   "metadata": {},
   "source": [
    "In the pre-class assignment, we covered some background topics needed to understand quantum physics and quantum computing. At the end, we learned the concept of a <b>wavefunction</b> in quantum physics. Today, we'll see how quantum physics can encode information differently that classical physics, which will lead us to the idea of using the laws of quantum physics to do computation."
   ]
  },
  {
   "cell_type": "markdown",
   "metadata": {},
   "source": [
    "## <p style=\"text-align: center;\"> Itinerary </p>"
   ]
  },
  {
   "cell_type": "markdown",
   "metadata": {},
   "source": [
    "<table align=\"center\" style=\"width:50%\">\n",
    "  <tr>\n",
    "    <td style=\"text-align:center\"><b>Assignment</b></td>\n",
    "    <td style=\"text-align:center\"><b>Topic</b></td>\n",
    "  </tr>\n",
    "  <tr>\n",
    "    <td style=\"text-align:center\">Background for Quantum Computing</td>\n",
    "    <td style=\"text-align:center\">Probability, Complex Numbers, Linear Algebra</td>\n",
    "  </tr>\n",
    "  <tr>\n",
    "    <td bgcolor=\"yellow\" style=\"text-align:center\">Information in Quantum States</td>\n",
    "    <td bgcolor=\"yellow\" style=\"text-align:center\">Classsical and Quantum Bits</td>\n",
    "  </tr>\n",
    "  <tr>\n",
    "    <td style=\"text-align:center\">Homework</td>\n",
    "    <td style=\"text-align:center\">Quantum Computing</td>\n",
    "  </tr>\n",
    "</table>"
   ]
  },
  {
   "cell_type": "markdown",
   "metadata": {},
   "source": [
    "## <p style=\"text-align: center;\"> Learning Goals for Today's In-Class Assignment </p>"
   ]
  },
  {
   "cell_type": "markdown",
   "metadata": {},
   "source": [
    "The purpose of this notebook is to understand how bits are used in classical computers and how qubits are used in quantum computers. In particular, by the end of today's assignment, you should:\n",
    "\n",
    "1. Know the difference between a bit and a qubit. (And thus the difference between classical and quantum computing.)\n",
    "1. Understand how information is stored and retrieved from bits, and what operations can be done on bits.\n",
    "1. Understand how information is stored and retrieved from qubits, and what operations can be done on qubits.\n",
    "\n",
    "And don't forget the <b>most important goal</b> of all these quantum computing assignments: <i>Realize how much you can learn, understand, and do with computational modeling.</i>"
   ]
  },
  {
   "cell_type": "markdown",
   "metadata": {},
   "source": [
    "## <p style=\"text-align: center;\"> Recap of the Pre-Class Assignment </p>"
   ]
  },
  {
   "cell_type": "markdown",
   "metadata": {},
   "source": [
    "In the pre-class assignment, we covered the following topics.\n",
    "\n",
    "1. <b><font color=\"red\">Probability.</font></b>\n",
    "1. <b><font color=\"green\">Complex Numbers.</font></b>\n",
    "1. <b><font color=\"blue\">Linear Algebra.</font></b>\n",
    "\n",
    "To briefly recap, a <b><font color=\"red\">probability distribution</font></b> is a list of numbers (or vector, now that we know what that is) that add up to one. \n",
    "\n",
    "A <b><font color=\"green\">complex number</font></b> has real and imaginary parts and a complex conjugate that allows us to compute it's squared modulus.\n",
    "\n",
    "A <b><font color=\"blue\">vector</font></b> is a list of numbers (real, complex, etc.) that we can form linear combinations, or superpositions, with."
   ]
  },
  {
   "cell_type": "markdown",
   "metadata": {},
   "source": [
    "<b>Question:</b> Is this a valid probability distribution?"
   ]
  },
  {
   "cell_type": "code",
   "execution_count": null,
   "metadata": {},
   "outputs": [],
   "source": [
    "\"\"\"Exercise: is this a valid probability distribution?\"\"\"\n",
    "import numpy as np\n",
    "distribution = np.array([0.6, 0.4])"
   ]
  },
  {
   "cell_type": "markdown",
   "metadata": {},
   "source": [
    "<font size=8 color=\"#009600\">&#9998;</font> **Answer:** Erase the contents of this cell and put your answer here!"
   ]
  },
  {
   "cell_type": "markdown",
   "metadata": {},
   "source": [
    "<b>Question:</b> If you answered yes, what could this probability distribution represent?"
   ]
  },
  {
   "cell_type": "markdown",
   "metadata": {},
   "source": [
    "<font size=8 color=\"#009600\">&#9998;</font> **Answer:** Erase the contents of this cell and put your answer here!"
   ]
  },
  {
   "cell_type": "markdown",
   "metadata": {},
   "source": [
    "<b>Question:</b> What's the complex conjugate and squared modulus of\n",
    "\n",
    "\\begin{equation}\n",
    "    \\alpha = 2 + 4i?\n",
    "\\end{equation}"
   ]
  },
  {
   "cell_type": "markdown",
   "metadata": {},
   "source": [
    "<font size=8 color=\"#009600\">&#9998;</font> **Answer:** Write code in the following cell to answer the above question."
   ]
  },
  {
   "cell_type": "code",
   "execution_count": null,
   "metadata": {},
   "outputs": [],
   "source": [
    "\"\"\"Exercise: compute the complex conjugate and squared modulus of the given complex number.\"\"\"\n",
    "# complex number\n",
    "alpha = 2 + 4j\n",
    "\n",
    "# TODO: compute and print out the complex conjugate\n",
    "print(alpha.conjugate())\n",
    "\n",
    "# TODO: compute and print out the squared modulus\n",
    "print(abs(alpha)**2)"
   ]
  },
  {
   "cell_type": "markdown",
   "metadata": {},
   "source": [
    "# <p style=\"text-align: center;\"> Classical Units of Information </p>"
   ]
  },
  {
   "cell_type": "markdown",
   "metadata": {},
   "source": [
    "What's information? One can get very philosophical with that question, but here we'll stick with the practical definition (we're computational scientists, after all!) that <b>information</b> is something that tells us something. Well, that's a lot of \"something's,\" what do we mean exactly?\n",
    "\n",
    "The first \"something\" is usually a physical system, like a light switch, for example. The light switch can be either up or down, on or off -- that's the second \"something.\" By looking at the lightswitch or observing the light it controls, we learn something about it, namely whether it's on or off. It tells us a piece of <b>information</b>.\n",
    "\n",
    "<b>Question:</b> Well, that's only two states. Wouldn't we need more to encode more information?\n",
    "\n",
    "<b>Answer:</b> No! I claim we can encode any amount of information using only bits. Why? Consider the following exercise. (Note the plural bit<i>s</i>.)"
   ]
  },
  {
   "cell_type": "markdown",
   "metadata": {},
   "source": [
    "<b>Question:</b> How can you encode one letter of the alphabet (a, b, c, ..., x, y, z) using only bits? How many bits do you need at minimum?"
   ]
  },
  {
   "cell_type": "markdown",
   "metadata": {},
   "source": [
    "<font size=8 color=\"#009600\">&#9998;</font> **Answer:** Erase the contents of this cell and put your answer here!"
   ]
  },
  {
   "cell_type": "markdown",
   "metadata": {},
   "source": [
    "Ok, so we can get by with only bits--that's pretty exciting! It simplifies the physical system we need to store information quite a bit (pun intended)."
   ]
  },
  {
   "cell_type": "markdown",
   "metadata": {},
   "source": [
    "<b>Question:</b> Think of other physical systems that we could use to represent bits of information. List as many as you can (at least three)."
   ]
  },
  {
   "cell_type": "markdown",
   "metadata": {},
   "source": [
    "<font size=8 color=\"#009600\">&#9998;</font> **Answer:** Erase the contents of this cell and put your answer here!"
   ]
  },
  {
   "cell_type": "markdown",
   "metadata": {},
   "source": [
    "## <p style=\"text-align: center;\"> Writing a Bit Class </p>"
   ]
  },
  {
   "cell_type": "markdown",
   "metadata": {},
   "source": [
    "Now that we know what binary digits are and how to use them to represent information (like letters in the alphabet), let's do a <i>bit</i> of coding (Okay I'm done, I promise). Specifically, let's code up a `Bit` class to understand them better. A skeleton of the class is provided below, with some methods implemented, which you should not change."
   ]
  },
  {
   "cell_type": "code",
   "execution_count": null,
   "metadata": {},
   "outputs": [],
   "source": [
    "\"\"\"Code cell with a bit class. Keep your class here and modify it as you work through the notebook. \n",
    "A skeleton of the class is provided for you.\"\"\"\n",
    "\n",
    "# ANSWER: final class after completing all instructions\n",
    "class Bit():\n",
    "    \"\"\"Binary digit class.\"\"\"\n",
    "    \n",
    "    def __init__(self, initial_value=0):\n",
    "        \"\"\"Initialize a Bit to the 0 state.\"\"\"\n",
    "        self.value = initial_value\n",
    "    \n",
    "    def NOT(self):\n",
    "        \"\"\"Performs the NOT operation on the Bit.\"\"\"\n",
    "        self.value = (self.value + 1) % 2\n",
    "\n",
    "    def measure(self):\n",
    "        \"\"\"Returns the value of the Bit.\"\"\"\n",
    "        return self.value\n",
    "    \n",
    "    def copy(self):\n",
    "        \"\"\"Returns a copy of the current bit.\"\"\"\n",
    "        return Bit(self.value)\n",
    "\n",
    "    def display_value(self):# <-- do not modify this method\n",
    "        \"\"\"Displays the value of the Bit.\"\"\"\n",
    "        print(\"The bit's value is \", self.value, \".\", sep=\"\")"
   ]
  },
  {
   "cell_type": "markdown",
   "metadata": {},
   "source": [
    "Of course every bit has a value, either one or zero, on or off. Let's agree by convention to always start our bit in the \"off\" state, represented by 0, unless a different initial value is provided. We'll do this by using keyword arguments as described below."
   ]
  },
  {
   "cell_type": "markdown",
   "metadata": {},
   "source": [
    "<font size=8 color=\"#009600\">&#9998;</font> Do the following to your class:\n",
    "\n",
    "(1) For `__init__`, create a keyword argument called `initial_value` whose default value is 0. Create a class attribute called `value` and set it to be `initial_value`."
   ]
  },
  {
   "cell_type": "code",
   "execution_count": null,
   "metadata": {},
   "outputs": [],
   "source": [
    "\"\"\"Create a bit and display it's value.\"\"\"\n",
    "b = Bit()\n",
    "b.display_value()"
   ]
  },
  {
   "cell_type": "markdown",
   "metadata": {},
   "source": [
    "<font size=8 color=\"#009600\">&#9998;</font> Do the following to your class:\n",
    "\n",
    "(2) Write a method called `measure` which returns the `value` of the bit."
   ]
  },
  {
   "cell_type": "markdown",
   "metadata": {},
   "source": [
    "Now run the following code block."
   ]
  },
  {
   "cell_type": "code",
   "execution_count": null,
   "metadata": {},
   "outputs": [],
   "source": [
    "\"\"\"Create a bit, display its value, and print out its state.\"\"\"\n",
    "b = Bit()\n",
    "b.display_value()\n",
    "print(\"The measured state of the bit is {}\".format(b.measure()))"
   ]
  },
  {
   "cell_type": "markdown",
   "metadata": {},
   "source": [
    "I know what you're thinking! \"Well duh! The measured state of a bit is just going to be it's value...\" Hold that thought! We're going to see a BIG difference when we talk about quantum bits.\n",
    "\n",
    "First, let's talk about the operations we can perform on a bit."
   ]
  },
  {
   "cell_type": "markdown",
   "metadata": {},
   "source": [
    "### <p style=\"text-align: center;\"> Operations on a Bit </p>"
   ]
  },
  {
   "cell_type": "markdown",
   "metadata": {},
   "source": [
    "There's only one non-trivial operation that can be performed on a bit -- negating, or flipping, its value. We'll call this operation the `NOT` operation, which has the following effect:\n",
    "\n",
    "\\begin{align}\n",
    "    \\text{NOT(0)} &= 1 \\\\\n",
    "    \\text{NOT(1)} &= 0\n",
    "\\end{align}"
   ]
  },
  {
   "cell_type": "markdown",
   "metadata": {},
   "source": [
    "<font size=8 color=\"#009600\">&#9998;</font> Do the following to your class:\n",
    "\n",
    "(3) Define a method called `NOT` which negates the `value` of the bit."
   ]
  },
  {
   "cell_type": "markdown",
   "metadata": {},
   "source": [
    "Now run the following code with your class."
   ]
  },
  {
   "cell_type": "code",
   "execution_count": null,
   "metadata": {
    "scrolled": true
   },
   "outputs": [],
   "source": [
    "\"\"\"Perform operations on a bit.\"\"\"\n",
    "# create a bit\n",
    "b = Bit()\n",
    "b.display_value()\n",
    "print(\"The measured state of the bit is {}.\\n\".format(b.measure()))\n",
    "\n",
    "# apply a NOT operation\n",
    "b.NOT()\n",
    "b.display_value()\n",
    "print(\"The measured state of the bit is {}.\\n\".format(b.measure()))\n",
    "\n",
    "# apply another NOT operation\n",
    "b.NOT()\n",
    "b.display_value()\n",
    "print(\"The measured state of the bit is {}.\\n\".format(b.measure()))"
   ]
  },
  {
   "cell_type": "markdown",
   "metadata": {},
   "source": [
    "Note that applying two `NOT` gates in a row gets us back to the same state, as you might expect.\n",
    "\n",
    "We can certainly do more operations with multiple bits of information. For example, if we have two bits, we can take the `AND` or the `OR` of them. The `AND` takes in two bits and returns one bit with a value of one if both input bits are one and zero otherwise. The `OR` returns one if <i>either</i> or both of of the input bits is one.\n",
    "\n",
    "Operations on multiple bits are crucial for information processing (i.e., computation), but for simplicity we won't discuss them in more detail here. \n",
    "\n",
    "One reason we do mention multiple bits is for copying information, another crucial component of (classical) computation."
   ]
  },
  {
   "cell_type": "markdown",
   "metadata": {},
   "source": [
    "## <p style=\"text-align: center;\"> Copying Bits </p>"
   ]
  },
  {
   "cell_type": "markdown",
   "metadata": {},
   "source": [
    "<b>Question:</b> How do you copy one bit into another bit?\n",
    "\n",
    "<b>Answer:</b> Uhhh... You just do it?\n",
    "\n",
    "Correct! We can copy a single classical bit into as many bits as we want. How? Well, we just look at the bit, record its value, then prepare another bit with that value."
   ]
  },
  {
   "cell_type": "markdown",
   "metadata": {},
   "source": [
    "<font size=8 color=\"#009600\">&#9998;</font> Do the following to your class:\n",
    "\n",
    "(4) Define a method called `copy` which copies the `value` of the `Bit` to a new `Bit` and returns that `Bit`."
   ]
  },
  {
   "cell_type": "code",
   "execution_count": null,
   "metadata": {},
   "outputs": [],
   "source": [
    "\"\"\"Copy a bit.\"\"\"\n",
    "b = Bit()\n",
    "new_bit = b.copy()\n",
    "\n",
    "b.display_value()\n",
    "new_bit.display_value()\n",
    "\n",
    "print(b == new_bit)"
   ]
  },
  {
   "cell_type": "markdown",
   "metadata": {},
   "source": [
    "You may think that this notebook is getting more and more outrageous! Why is it even a question of how to copy a bit of information?!\n",
    "\n",
    "We highlighted this feature, as well as the others, to now contrast bits with <i>qu</i>bits."
   ]
  },
  {
   "cell_type": "markdown",
   "metadata": {},
   "source": [
    "# <p style=\"text-align: center;\"> Quantum Units of Information </p>"
   ]
  },
  {
   "cell_type": "markdown",
   "metadata": {},
   "source": [
    "Remember how we vaguely defined information above? We'll repeat it here.\n",
    "\n",
    "<b>Definition:</b> <i>Information</i> is something that tells us something.\n",
    "\n",
    "Being so vague, we had to clarify, and so we said the first \"something\" was a physical system, like a light switch or a voltage or a current. Here's the key point: <i>Before, all physical systems we mentioned were described by <b>classical</b> physics!</i>\n",
    "\n",
    "<b>Question:</b> What if we used a system described by <b>quantum</b> physics: i.e., a system that had a <b>wavefunction</b>?\n",
    "\n",
    "<b>Answer:</b> You get a <b>quantum bit</b>, also called a <b>qubit</b>!\n",
    "\n",
    "Specifically, a <b>qubit</b> is defined as a \"two-level quantum system\", which means a quantum system that can have two energy levels, which we can completely specifiy by saying \"low energy\" and \"high energy.\" Or, if we wanted to sound more like quantum physicists, we could call these the <b>ground state</b> and (first) <b>excited state</b>, respectively. "
   ]
  },
  {
   "cell_type": "markdown",
   "metadata": {},
   "source": [
    "<b>Question:</b> Bits were made of classical physical systems like light switches. What kind of quantum systems do people make qubits out of? Search the web to find out and record at least three of your findings below."
   ]
  },
  {
   "cell_type": "markdown",
   "metadata": {},
   "source": [
    "<font size=8 color=\"#009600\">&#9998;</font> **Answer:** Erase the contents of this cell and put your answer here!"
   ]
  },
  {
   "cell_type": "markdown",
   "metadata": {},
   "source": [
    "## <p style=\"text-align: center;\"> Writing a Qubit Class </p>"
   ]
  },
  {
   "cell_type": "markdown",
   "metadata": {},
   "source": [
    "Let's now get more practice with qubits by writing a `Qubit` class in the same way that we wrote a `Bit` class. This will allow you to see the similarites and differences between classical and quantum bits. If you understand this, you're well on your way to understanding quantum computing."
   ]
  },
  {
   "cell_type": "code",
   "execution_count": null,
   "metadata": {},
   "outputs": [],
   "source": [
    "\"\"\"Code cell with a qubit class. Keep your class here and modify it as you work through the notebook. \n",
    "A skeleton of the class is provided for you.\"\"\"\n",
    "\n",
    "# ANSWER: complete class is shown below\n",
    "class Qubit():\n",
    "    \"\"\"Quantum bit class.\"\"\"\n",
    "    # data -- basis states\n",
    "    zero = np.array([1, 0], dtype=np.complex64)\n",
    "    one = np.array([0, 1], dtype=np.complex64)\n",
    "    \n",
    "    def __init__(self):\n",
    "        \"\"\"Initializes a Qubit to the ground state |0>.\"\"\"\n",
    "        self.wavefunction = self.zero\n",
    "\n",
    "    def measure(self):\n",
    "        \"\"\"Returns the state obtained by measuring the Qubit and modifies the wavefunction accordingly.\"\"\"\n",
    "        prob_ground_state = abs(self.wavefunction[0])\n",
    "        if np.random.uniform() < prob_ground_state:\n",
    "            self.wavefunction = self.zero\n",
    "            return 0\n",
    "        else:\n",
    "            self.wavefunction = self.one\n",
    "            return 1\n",
    "\n",
    "    def NOT(self):\n",
    "        \"\"\"Performs a NOT operation on the Qubit's wavefunction.\"\"\"\n",
    "        xmat = np.array([[0, 1], [1, 0]], dtype=np.complex64)\n",
    "        self.wavefunction = np.dot(xmat, self.wavefunction)\n",
    "\n",
    "    def H(self):\n",
    "        \"\"\"Performs a Hadamard operation on the Qubit's wavefunction\"\"\"\n",
    "        hmat = 1 / np.sqrt(2) * np.array([[1, 1], [1, -1]], dtype=np.complex64)\n",
    "        self.wavefunction = np.dot(hmat, self.wavefunction)\n",
    "\n",
    "    def display_wavefunction(self):# <-- do not modify this method!\n",
    "        \"\"\"Prints the wavefunction of the Qubit.\"\"\"\n",
    "        # TODO: make this print a \"column vector\" like the math notation we're using\n",
    "        print(\"The Qubit's wavefunction is\", self.wavefunction)"
   ]
  },
  {
   "cell_type": "markdown",
   "metadata": {},
   "source": [
    "All qubits have a <b>wavefunction</b>, which we know is a a <b><font color=\"blue\">vector</font></b> of <b><font color=\"green\">complex numbers</font></b> which determine the <b><font color=\"red\">probability</font></b> of measuring a particular state. Remember that we can generate any wavefunction by taking linear combinations of $|0\\rangle$ and $|1\\rangle$. For your reference, we repeat the definitions of $|0\\rangle$ and $|1\\rangle$ here:\n",
    "\n",
    "\\begin{equation}\n",
    "    |0\\rangle := \\left[ \\begin{matrix}\n",
    "    1 \\\\\n",
    "    0 \\\\\n",
    "    \\end{matrix} \\right]\n",
    "\\end{equation}\n",
    "\n",
    "\\begin{equation}\n",
    "    |1\\rangle := \\left[ \\begin{matrix}\n",
    "    0 \\\\\n",
    "    1 \\\\\n",
    "    \\end{matrix} \\right]\n",
    "\\end{equation}\n",
    "\n",
    "In particular, the wavefunction $|\\psi\\rangle$ of any qubit can be written\n",
    "\n",
    "\\begin{equation}\n",
    "    |\\psi\\rangle = \\alpha |0\\rangle + \\beta |1\\rangle = \\left[ \\begin{matrix}\n",
    "    \\alpha \\\\\n",
    "    \\beta \\\\\n",
    "    \\end{matrix} \\right]\n",
    "\\end{equation}\n",
    "\n",
    "such that $|\\alpha|^2 + |\\beta|^2 = 1$. "
   ]
  },
  {
   "cell_type": "markdown",
   "metadata": {},
   "source": [
    "<font size=8 color=\"#009600\">&#9998;</font> Do the following to your class:\n",
    "\n",
    "(1) Define a numpy array `zero` representing the state $|0\\rangle$ above in your class. Make sure the datatype is complex, for example using `np.complex64`.\n",
    "\n",
    "(2) Define a numpy array `one` representing the state $|1\\rangle$ above in your class. Make sure the datatype is complex, for example using `np.complex64`."
   ]
  },
  {
   "cell_type": "markdown",
   "metadata": {},
   "source": [
    "By convention, let's agree to <i>always</i> initialize a `Qubit` in the ground state $|0\\rangle$."
   ]
  },
  {
   "cell_type": "markdown",
   "metadata": {},
   "source": [
    "<font size=8 color=\"#009600\">&#9998;</font> Do the following to your `Qubit` class:\n",
    "\n",
    "(1) In the `__init__` method, create a `wavefunction` attribute of the `Qubit` and set it to be equal to the ground state $|0\\rangle$. "
   ]
  },
  {
   "cell_type": "markdown",
   "metadata": {},
   "source": [
    "Now run the following code."
   ]
  },
  {
   "cell_type": "code",
   "execution_count": null,
   "metadata": {},
   "outputs": [],
   "source": [
    "\"\"\"Initialize a qubit and display its wavefunction.\"\"\"\n",
    "q = Qubit()\n",
    "q.display_wavefunction()\n",
    "print()"
   ]
  },
  {
   "cell_type": "markdown",
   "metadata": {},
   "source": [
    "In the above code, we initialize a qubit and then use the provided `display_wavefunction` method to print out it's wavefunction. So far, so good? Nothing too tricky going on here.\n",
    "\n",
    "Now let's write a method to measure our `Qubit`. Remember, the amplitudes of the wavefunction are related to the probability of measuring the `Qubit` in a state. We've seen this rule before. The rule that's new is that <i>the wavefunction changes based on what state we measure.</i> In particular, if we measure the ground state, the wavefunction becomes $|0\\rangle$. If we measure the excited state, the wavefunction becomes $|1\\rangle$.\n",
    "\n",
    "This is why we've been using the labels \"0\" and \"1\" in the kets all along! When we measure a qubit, we get precisely one bit of information. Namely, was it in the ground state (0) or the excited state (1).\n",
    "\n",
    "We repeat the <b>two measurement rules</b> of qubits below for clarity:\n",
    "\n",
    "(1) The probability that $|\\psi\\rangle$ is in the ground state is $|\\alpha|^2$. The probability that $|\\psi\\rangle$ is in the excited state is $|\\beta|^2 = 1 - |\\alpha|^2$.\n",
    "\n",
    "(2) If we measure $|\\psi\\rangle$ and get the ground state (0), its wavefunction becomes $|0\\rangle$. If we measure $|\\psi\\rangle$ and get the excited state (1), its wavefunction becomes $|1\\rangle$."
   ]
  },
  {
   "cell_type": "markdown",
   "metadata": {},
   "source": [
    "<font size=8 color=\"#009600\">&#9998;</font> Do the following to your `Qubit` class:\n",
    "\n",
    "(1) Write a method called `measure` which measures a `Qubit` according to the above rules and returns the measurement result (either 0 or 1)."
   ]
  },
  {
   "cell_type": "markdown",
   "metadata": {},
   "source": [
    "Now run the following code."
   ]
  },
  {
   "cell_type": "code",
   "execution_count": null,
   "metadata": {
    "scrolled": true
   },
   "outputs": [],
   "source": [
    "\"\"\"Initialize a qubit and measure it.\"\"\"\n",
    "q = Qubit()\n",
    "q.display_wavefunction()\n",
    "print(\"The measured state of the qubit is {}.\".format(q.measure()))\n",
    "q.display_wavefunction()"
   ]
  },
  {
   "cell_type": "markdown",
   "metadata": {},
   "source": [
    "You should have seen the measurement result 0. Now, run the cell above many times and note the measurement result after each time you run it. (The keyboard shortcut \"control + enter\" is useful here.)\n",
    "\n",
    "<b>Question:</b> What measured state do you always get? Why?"
   ]
  },
  {
   "cell_type": "markdown",
   "metadata": {},
   "source": [
    "<font size=8 color=\"#009600\">&#9998;</font> **Answer:** Erase the contents of this cell and put your answer here!"
   ]
  },
  {
   "cell_type": "markdown",
   "metadata": {},
   "source": [
    "## <p style=\"text-align: center;\"> Operations on a Qubit </p>"
   ]
  },
  {
   "cell_type": "markdown",
   "metadata": {},
   "source": [
    "On a classical bit, we could only do one operation, the `NOT` operation, because the bit only had two states. With our `Qubit`, we have an underlying `wavefunction` that helps determine what our measured state will be, as we have seen above. Operations on a `Qubit` act on its `wavefunction`. As such, there's a lot more operations we can do to it! (In fact, there's infinitely many operations we can do on a qubit.)\n",
    "\n",
    "One example of an operation is called the `X` or `NOT` operation. Why is it called this? Well, it has the effect\n",
    "\n",
    "\\begin{align}\n",
    "    \\text{NOT($|0\\rangle$)} &= |1\\rangle \\\\\n",
    "    \\text{NOT($|1\\rangle$)} &= |0\\rangle\n",
    "\\end{align}\n",
    "\n",
    "From this, it can be shown that a matrix representation for `NOT` is\n",
    "\n",
    "\\begin{equation}\n",
    " \\text{NOT} = \\left[ \\begin{matrix}\n",
    "     0 & 1 \\\\\n",
    "     1 & 0 \\\\\n",
    "     \\end{matrix} \\right] .\n",
    "\\end{equation}\n",
    "\n",
    "(If you know linear algebra, prove this to youreself. If not, just take our word for it.)"
   ]
  },
  {
   "cell_type": "markdown",
   "metadata": {},
   "source": [
    "<font size=8 color=\"#009600\">&#9998;</font> Do the following to your `Qubit` class:\n",
    "\n",
    "(1) Write a method called `NOT` which switches the amplitude of the `wavefunction` by applying the matrix transformation given above."
   ]
  },
  {
   "cell_type": "markdown",
   "metadata": {},
   "source": [
    "Now run the following code."
   ]
  },
  {
   "cell_type": "code",
   "execution_count": null,
   "metadata": {
    "scrolled": true
   },
   "outputs": [],
   "source": [
    "\"\"\"Perform a NOT operation on a qubit.\"\"\"\n",
    "q = Qubit()\n",
    "q.display_wavefunction()\n",
    "print()\n",
    "\n",
    "q.NOT()\n",
    "q.display_wavefunction()"
   ]
  },
  {
   "cell_type": "markdown",
   "metadata": {},
   "source": [
    "You should have a `Qubit` whose wavefunction is $|1\\rangle$ after executing the above cell. Now let's measure a `Qubit` such a qubit to see what we get."
   ]
  },
  {
   "cell_type": "code",
   "execution_count": null,
   "metadata": {},
   "outputs": [],
   "source": [
    "\"\"\"Measure a qubit with wavefunction |1>.\"\"\"\n",
    "q = Qubit()\n",
    "q.NOT()\n",
    "q.display_wavefunction()\n",
    "print(\"The measured state of the qubit is {}.\".format(q.measure()))\n",
    "q.display_wavefunction()"
   ]
  },
  {
   "cell_type": "markdown",
   "metadata": {},
   "source": [
    "You should have seen 1 as the measurement result. Now, run the above cell many times and observe your measurement results after each run."
   ]
  },
  {
   "cell_type": "markdown",
   "metadata": {},
   "source": [
    "<b>Question:</b> What measured state do you always get? Why?"
   ]
  },
  {
   "cell_type": "markdown",
   "metadata": {},
   "source": [
    "<font size=8 color=\"#009600\">&#9998;</font> **Answer:** Erase the contents of this cell and put your answer here!"
   ]
  },
  {
   "cell_type": "markdown",
   "metadata": {},
   "source": [
    "Another quantum operation is called the <b>Hadamard</b> operation or Hadamard gate. The Hadamard gate, usually represented by just $H$, performs the following transformation on a qubit's wavefunction:\n",
    "\n",
    "\\begin{equation}\n",
    "    H \\left( \\left[ \\begin{matrix}\n",
    "    \\alpha \\\\\n",
    "    \\beta \\\\\n",
    "    \\end{matrix} \\right] \\right)\n",
    "    =\n",
    "    \\frac{1}{\\sqrt{2}} \\left[ \\begin{matrix}\n",
    "    \\alpha + \\beta \\\\\n",
    "    \\alpha - \\beta \\\\\n",
    "    \\end{matrix} \\right]\n",
    "\\end{equation}\n",
    "\n",
    "A matrix representation for the Hadmard gate is given by\n",
    "\n",
    "\\begin{equation}\n",
    "    H = \\frac{1}{\\sqrt{2}}\\left[ \\begin{matrix}\n",
    "     1 & 1 \\\\\n",
    "     1 & -1 \\\\\n",
    "     \\end{matrix} \\right]\n",
    "\\end{equation}\n",
    "\n",
    "(Again, if you know linear algebra, prove this to youreself. If not, just take our word for it.)"
   ]
  },
  {
   "cell_type": "markdown",
   "metadata": {},
   "source": [
    "<font size=8 color=\"#009600\">&#9998;</font> Do the following to your `Qubit` class:\n",
    "\n",
    "(1) Write a method called `H` applies the Hadamrd gate given above to the `Qubit`s `wavefunction`."
   ]
  },
  {
   "cell_type": "markdown",
   "metadata": {},
   "source": [
    "Now run the following code."
   ]
  },
  {
   "cell_type": "code",
   "execution_count": null,
   "metadata": {},
   "outputs": [],
   "source": [
    "\"\"\"Performing a Hadamard transform on a qubit.\"\"\"\n",
    "q = Qubit()\n",
    "q.H()\n",
    "q.display_wavefunction()"
   ]
  },
  {
   "cell_type": "markdown",
   "metadata": {},
   "source": [
    "You should see that the qubit has equal amplitudes. Now let's measure the `Qubit` to see what we get."
   ]
  },
  {
   "cell_type": "code",
   "execution_count": null,
   "metadata": {},
   "outputs": [],
   "source": [
    "\"\"\"Measuring a qubit after performing a Hadamard gate.\"\"\"\n",
    "q = Qubit()\n",
    "q.H()\n",
    "q.display_wavefunction()\n",
    "print(\"The measured state of the qubit is {}.\".format(q.measure()))\n",
    "q.display_wavefunction()"
   ]
  },
  {
   "cell_type": "markdown",
   "metadata": {},
   "source": [
    "What measurement result did you get?\n",
    "\n",
    "<b>Question:</b> Run the above cell several times and observe your measurement results after each run. Write a sentence describing your observation."
   ]
  },
  {
   "cell_type": "markdown",
   "metadata": {},
   "source": [
    "<font size=8 color=\"#009600\">&#9998;</font> **Answer:** Erase the contents of this cell and put your answer here!"
   ]
  },
  {
   "cell_type": "markdown",
   "metadata": {},
   "source": [
    "## <p style=\"text-align: center;\"> Copying Qubits </p>"
   ]
  },
  {
   "cell_type": "markdown",
   "metadata": {},
   "source": [
    "Remember the question of how to copy a bit? Well, now let's ask this for qubits:\n",
    "\n",
    "<b>Question:</b> How do you copy a qubit?\n",
    "\n",
    "<b>Attempted Answer 1:</b> You just copy it's wavefunction?\n",
    "\n",
    "This won't work! Remember the wavefunction is just a mathematical tool that we use to help us calculate probabilities of what state the system is in. If we have a particle, say an electron, there's no wavefunction that we can just look at and then copy over it's information. (Unlike a light switch, a classical system, which we could look at and see with no issues.\n",
    "\n",
    "<b>Attempted Answer 2:</b> Well what if we just measure it then copy the measurement result into a new qubit?\n",
    "\n",
    "This also won't work! Remember the measurement rules above. When we measure a qubit, we inherently change its wavefunction. The wavefunction it changes to is not, in general, the same as it was before measurement."
   ]
  },
  {
   "cell_type": "markdown",
   "metadata": {},
   "source": [
    "There is a way to copy one qubit to another, which is known as <b>quantum teleportation</b>, and involves a total of three qubits to get the job done. You'll get a chance to look at this in your homework!"
   ]
  },
  {
   "cell_type": "markdown",
   "metadata": {},
   "source": [
    "# <p style=\"text-align: center;\"> Assignment Wrap-up </p>"
   ]
  },
  {
   "cell_type": "markdown",
   "metadata": {},
   "source": [
    "## <p style=\"text-align: center;\"> Installing Qiskit"
   ]
  },
  {
   "cell_type": "markdown",
   "metadata": {},
   "source": [
    "For the next homework, we'll be using the Quantum Information Science Kit, or <a href=\"https://qiskit.org/\">Qiskit</a>, which is a Python package for working with real quantum computers! Try to install Qiskit v0.7.0 on your computer now by executing the following cell. We'll be walking around to troubleshoot problems.\n",
    "\n",
    "Note: Why version 0.7.0? These quantum software packages are new and tend to change a bit. We'll use this version to make sure all the code in the homework works as anticipated."
   ]
  },
  {
   "cell_type": "code",
   "execution_count": null,
   "metadata": {},
   "outputs": [],
   "source": [
    "\"\"\"Attempt to install QISKit using pip. Uncomment the following two lines and run the cell.\"\"\"\n",
    "# !pip install --upgrade pip\n",
    "# !pip install qiskit==0.7.0"
   ]
  },
  {
   "cell_type": "markdown",
   "metadata": {},
   "source": [
    "## <p style=\"text-align: center;\"> Survey </p>"
   ]
  },
  {
   "cell_type": "code",
   "execution_count": null,
   "metadata": {},
   "outputs": [],
   "source": [
    "from IPython.display import HTML\n",
    "HTML(\n",
    "\"\"\"\n",
    "<iframe \n",
    "\tsrc=\"https://goo.gl/forms/XnF4lrNsyxRAbggV2\" \n",
    "\twidth=\"80%\" \n",
    "\theight=\"1200px\" \n",
    "\tframeborder=\"0\" \n",
    "\tmarginheight=\"0\" \n",
    "\tmarginwidth=\"0\">\n",
    "\tLoading...\n",
    "</iframe>\n",
    "\"\"\"\n",
    ")"
   ]
  },
  {
   "cell_type": "markdown",
   "metadata": {},
   "source": [
    "## <p style=\"text-align: center;\"> Congrats, You're Finished! </p>"
   ]
  },
  {
   "cell_type": "markdown",
   "metadata": {},
   "source": [
    "Now, you just need to submit this assignment by uploading it to the course <a href=\"https://d2l.msu.edu/\">Desire2Learn</a> web page for today's submission folder. (Don't forget to add your name in the first cell.)"
   ]
  },
  {
   "cell_type": "markdown",
   "metadata": {},
   "source": [
    "<p style=\"text-align: right;\"><b>&#169; Copyright 2019, Michigan State University Board of Trustees.</b></p>"
   ]
  }
 ],
 "metadata": {
  "kernelspec": {
   "display_name": "Python 3",
   "language": "python",
   "name": "python3"
  },
  "language_info": {
   "codemirror_mode": {
    "name": "ipython",
    "version": 3
   },
   "file_extension": ".py",
   "mimetype": "text/x-python",
   "name": "python",
   "nbconvert_exporter": "python",
   "pygments_lexer": "ipython3",
   "version": "3.6.8"
  }
 },
 "nbformat": 4,
 "nbformat_minor": 2
}
