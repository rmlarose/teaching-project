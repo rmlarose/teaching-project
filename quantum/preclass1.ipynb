{
 "cells": [
  {
   "cell_type": "markdown",
   "metadata": {},
   "source": [
    "<p style=\"text-align: right;\"> &#9989; Put your name here</p>"
   ]
  },
  {
   "cell_type": "markdown",
   "metadata": {},
   "source": [
    "# <p style=\"text-align: center;\"> Pre-Class Assignment X: Background for Quantum Computing </p>"
   ]
  },
  {
   "cell_type": "markdown",
   "metadata": {},
   "source": [
    "This notebook starts a unit introducing a different model of computation, a model that plays by the rules of *quantum* physics rather than *classical* physics.\n",
    "\n",
    "I hope you're not intimidated! Unfortunately, quantum physics gets a bad rap of being inherently confusing. This is not at all the case! Quantum physics is hard to talk about due to some weird consequences that we'll see shortly, but it's actually really easy to <i>do</i>, involving some simple mathematics that you have probably seen before. And it doesn't require you to know any classical physics! (If you do, you'll see why quantum physics is a strange theory.)"
   ]
  },
  {
   "cell_type": "markdown",
   "metadata": {},
   "source": [
    "### <p style=\"text-align: center;\"> Before you start... </p>"
   ]
  },
  {
   "cell_type": "markdown",
   "metadata": {},
   "source": [
    "Take ten seconds to answer these pre-assignment survey questions:"
   ]
  },
  {
   "cell_type": "code",
   "execution_count": null,
   "metadata": {},
   "outputs": [],
   "source": [
    "from IPython.display import HTML\n",
    "HTML(\n",
    "\"\"\"\n",
    "<iframe \n",
    "\tsrc=\"https://goo.gl/forms/aTOqrX354o9n52r92\" \n",
    "\twidth=\"80%\" \n",
    "\theight=\"1200px\" \n",
    "\tframeborder=\"0\" \n",
    "\tmarginheight=\"0\" \n",
    "\tmarginwidth=\"0\">\n",
    "\tLoading...\n",
    "</iframe>\n",
    "\"\"\"\n",
    ")"
   ]
  },
  {
   "cell_type": "markdown",
   "metadata": {},
   "source": [
    "## <p style=\"text-align: center;\"> Learning Goals for Today's Pre-Class Assignment </p>"
   ]
  },
  {
   "cell_type": "markdown",
   "metadata": {},
   "source": [
    "The purpose of this notebook is to introduce the mathematics behind quantum physics in a simple, relatable way. Specifically, by the end of today's assignment, you should:\n",
    "\n",
    "1. Understand the basics of <font color=\"red\">probability</font> theory.\n",
    "1. Be able to add, subtract, and compute the modulus of <font color=\"green\">complex numbers</font>.\n",
    "1. Understand <font color=\"blue\">vectors</font> and linear combinations of vectors.\n",
    "\n",
    "By understanding these three points, you'll understand what a <b>wavefunction</b> is in quantum mechanics, dispelling the myth that quantum mechanics is confusing!\n",
    "\n",
    "The next notebooks will take what we learn here and start applying it to *quantum computing*, the idea of exploiting quantum physics to solve useful computational problems.\n",
    "\n",
    "<p style=\"text-align: justify;\">\n",
    "<b>The most important goal</b> of all these notebooks, however, is to <i>realize how much you can learn, understand, and do with computational modeling.</i> Things like quantum physics or quantum computing, which you may be intimidated by, become much much easier with the tools of a computational professional under your belt.\n",
    "</p>"
   ]
  },
  {
   "cell_type": "markdown",
   "metadata": {},
   "source": [
    "## <p style=\"text-align: center;\"> Itinerary </p>"
   ]
  },
  {
   "cell_type": "markdown",
   "metadata": {},
   "source": [
    "<table align=\"center\" style=\"width:50%\">\n",
    "  <tr>\n",
    "    <td style=\"text-align:center\"><b>Assignment</b></td>\n",
    "    <td style=\"text-align:center\"><b>Topic</b></td>\n",
    "  </tr>\n",
    "  <tr>\n",
    "    <td bgcolor=\"yellow\" style=\"text-align:center\">Background for Quantum Computing</td>\n",
    "    <td bgcolor=\"yellow\" style=\"text-align:center\">Probability, Complex Numbers, Linear Algebra</td>\n",
    "  </tr>\n",
    "  <tr>\n",
    "    <td style=\"text-align:center\">Information in Quantum States</td>\n",
    "    <td style=\"text-align:center\">Classsical and Quantum Bits</td>\n",
    "  </tr>\n",
    "  <tr>\n",
    "    <td style=\"text-align:center\">The Circuit Model of Quantum Computing</td>\n",
    "    <td style=\"text-align:center\">Quantum Gates and Measurements</td>\n",
    "  </tr>\n",
    "  <tr>\n",
    "    <td style=\"text-align:center\">Quantum Algorithms</td>\n",
    "    <td style=\"text-align:center\">Manipulating Quantum Bits to Perform Useful Computations</td>\n",
    "  </tr>\n",
    "  <tr>\n",
    "    <td style=\"text-align:center\">Homework</td>\n",
    "    <td style=\"text-align:center\">Writing Quantum Algorithms</td>\n",
    "  </tr>\n",
    "</table>"
   ]
  },
  {
   "cell_type": "markdown",
   "metadata": {},
   "source": [
    "## <p style=\"text-align: center;\"> Quantum Computing? What's the Big Idea? </p>"
   ]
  },
  {
   "cell_type": "markdown",
   "metadata": {},
   "source": [
    "It's easy to state the big idea behind quantum computing in a few sentences:\n",
    "\n",
    "<p style=\"text-align: justify;\">\n",
    "Conventional computers like laptops store information in <b>bits</b>, short for <b>binary digits</b>, which are just 0 or 1. These are <b>classical</b> units of information which obey the laws of classical physics -- the ordinary world we are used to governed by Newton's equations. <b>Quantum</b> computers store information in <b>qubits</b>, short for <b>quantum bits</b>, which we label as $|0\\rangle$ and $|1\\rangle$. These are <b>quantum</b> units of information which obey the laws of quantum physics -- the world of subatomic particles governed by Schrodinger's equation. Remarkably, quantum computers are able to solve certain computational problems faster than classical computers!\n",
    "</p>\n",
    "\n",
    "How can we understand this further? Well, there's three secrets that make quantum physics very easy to learn. You've probably seen at least one of these in courses before, so congratulations! You're at least 1/3 a quantum physicist! The secrets are as follows:\n",
    "\n",
    "The <b>wavefunction</b> of a quantum system is a <b><font color=\"blue\">vector</font></b> (secret #3!) of <b><font color=\"green\">complex numbers</font></b> (secret #2!) that determine the <b><font color=\"red\">probability</font></b> (secret #1!) of finding a system in a particular state.\n",
    "\n",
    "<b>Question:</b> Uhh... Okay? What the heck is a <b>wavefunction</b> anyhow? \n",
    "\n",
    "\n",
    "<b>Answer:</b> It's a mathematical tool that helps us compute the <i>state</i> of a physical system. \n",
    "\n",
    "\n",
    "Ohhh... Right. \n",
    "\n",
    "<b>Question:</b> What's a <b>state</b> of a physical system?\n",
    "\n",
    "\n",
    "<b>Answer:</b> It's just physics jargon. It means \"a description for properties of the system being studied.\" For example, our system could be a ball, and a property of that ball could be its position. Then, we could say the ball being here is a particular state, the ball being over there is another state, etc."
   ]
  },
  {
   "cell_type": "code",
   "execution_count": null,
   "metadata": {},
   "outputs": [],
   "source": [
    "\"\"\"All imports for the notebook.\"\"\"\n",
    "import numpy as np\n",
    "import matplotlib.pyplot as plt\n",
    "from IPython.display import YouTubeVideo"
   ]
  },
  {
   "cell_type": "markdown",
   "metadata": {},
   "source": [
    "# <p style=\"text-align: center;\"> Secret #1: <font color=\"red\">Probability</font> </p>"
   ]
  },
  {
   "cell_type": "markdown",
   "metadata": {},
   "source": [
    "##  <p style=\"text-align: center;\"> <font color=\"red\">Introduction and Intuition</p> </p>"
   ]
  },
  {
   "cell_type": "markdown",
   "metadata": {},
   "source": [
    "Probability is a topic familiar to all of us. It's best understood through examples like flipping a coin (which has two sides, \"heads\" and \"tails\") or rolling a die (which has six sides labeled 1 through 6).\n",
    "\n",
    "<b><font color=\"red\">Question:</font></b> Suppose I flip a coin: what's the probability of getting heads?\n",
    "\n",
    "<b><font color=\"red\">Answer:</font></b> Assuming it's a _fair_ coin, we'd say the probability of getting heads is one half. Mathematically, we can write this as\n",
    "\n",
    "\\begin{equation}\n",
    "p(\\text{heads}) = 1/2,\n",
    "\\end{equation}\n",
    "\n",
    "where $p$ denotes \"probability\" and and whatever is in parentheses is the *event* we're considering, in this case the event that the coin shows heads. \n",
    "\n",
    "<b><font color=\"red\">Question:</font></b> How can we interpret a probability? What does this mean?\n",
    "\n",
    "<b><font color=\"red\">Answer:</font></b> This means that, if we flipped the coin many times and recorded all the results, we'd expect half of the results to show heads.\n",
    "\n",
    "What does this mean about the probability of getting tails? Intuitively, we expect it must also be one half, since tails is the only other outcome. Mathematically, we can write\n",
    "\n",
    "\\begin{equation}\n",
    "p(\\text{tails}) = 1/2 .\n",
    "\\end{equation}\n",
    "\n",
    "What's the probability of rolling a four with a fair die? One in six! Probability isn't so bad, right?"
   ]
  },
  {
   "cell_type": "markdown",
   "metadata": {},
   "source": [
    "##  <p style=\"text-align: center;\"> <font color=\"red\">Fundamental Condition</font> </p>"
   ]
  },
  {
   "cell_type": "markdown",
   "metadata": {},
   "source": [
    "Once we have a good intuitive understanding of probability, it's not too hard to write down the formal mathematical postulates, which involve outcomes of events, random variables, etc. We won't list off all of the axioms, but only the ones we'll need for our discussion of quantum computing, which only turns out to be one simple rule! We'll define a (discrete) <b><font color=\"red\">probability distribution</font></b> as a list of numbers $p_1, ..., p_n$ that satisfy the following <b><font color=\"red\">fundamental condition</font></b>:\n",
    "\n",
    "* The sum over all probabilites is equal to one.\n",
    "\n",
    "\\begin{equation}\n",
    "\\sum_{i = 1}^{n} p_i = 1 .\n",
    "\\end{equation}\n",
    "\n",
    "Also, as you might guess, if $p_i$ is the outcome of getting the $i$th outcome, then the probability of NOT getting the $i$th outcome is $1 - p_i$. "
   ]
  },
  {
   "cell_type": "markdown",
   "metadata": {},
   "source": [
    "## <p style=\"text-align: center;\"> <font color=\"red\">Working with Probabilities</font> </p>"
   ]
  },
  {
   "cell_type": "markdown",
   "metadata": {},
   "source": [
    "**Question:** Could the following list of numbers be a probability distribution? Why or why not?"
   ]
  },
  {
   "cell_type": "code",
   "execution_count": null,
   "metadata": {},
   "outputs": [],
   "source": [
    "\"\"\"Potential probability distribution.\"\"\"\n",
    "distribution = np.array([0.1, 0.3, 0.2, 0.2, 0.1, 0.2])"
   ]
  },
  {
   "cell_type": "markdown",
   "metadata": {},
   "source": [
    "<font size=8 color=\"#009600\">&#9998;</font> **Answer:** Erase the contents of this cell and put your answer here!"
   ]
  },
  {
   "cell_type": "markdown",
   "metadata": {},
   "source": [
    "<font size=8 color=\"#009600\">&#9998;</font> **Answer:** No, the probabilities do not add up to one."
   ]
  },
  {
   "cell_type": "markdown",
   "metadata": {},
   "source": [
    "**Question:** Without deleting or adding any entries to the list, how can you make the above list a valid probability distribution? Write a short piece of code that executes your idea."
   ]
  },
  {
   "cell_type": "markdown",
   "metadata": {},
   "source": [
    "<font size=8 color=\"#009600\">&#9998;</font> **Answer:** Erase the contents of this cell and put your answer here!"
   ]
  },
  {
   "cell_type": "code",
   "execution_count": null,
   "metadata": {},
   "outputs": [],
   "source": [
    "\"\"\"Answer: put your code for implementing your answer here!\"\"\"\n"
   ]
  },
  {
   "cell_type": "markdown",
   "metadata": {},
   "source": [
    "<font size=8 color=\"#009600\">&#9998;</font> **Answer:** We can divide by the sum of the elements in the array."
   ]
  },
  {
   "cell_type": "code",
   "execution_count": null,
   "metadata": {},
   "outputs": [],
   "source": [
    "\"\"\"Answer.\"\"\"\n",
    "valid_distribution = distribution / sum(distribution)\n",
    "assert sum(valid_distribution) == 1"
   ]
  },
  {
   "cell_type": "markdown",
   "metadata": {},
   "source": [
    "# <p style=\"text-align: center;\"> Secret #2: <font color=\"green\">Complex Numbers</font> </p>"
   ]
  },
  {
   "cell_type": "markdown",
   "metadata": {},
   "source": [
    "## <p style=\"text-align: center;\"> <font color=\"green\">Historical Origin</font> </p>"
   ]
  },
  {
   "cell_type": "markdown",
   "metadata": {},
   "source": [
    "Remember solving polynomial equations in high school? Things like\n",
    "\n",
    "\\begin{equation}\n",
    "x^2 - 1 = 0 ?\n",
    "\\end{equation}\n",
    "\n",
    "Well, that equation above is a pretty simple one. Remember the solutions? Right, $x = \\pm 1$. \n",
    "\n",
    "Solving polynomial equations is an extraordinarly useful tool in all of mathematics. It seems pretty straightforward, until someone throws a weird equation at you like this:\n",
    "\n",
    "\\begin{equation}\n",
    "    x^2 + 1 = 0 .\n",
    "\\end{equation}\n",
    "\n",
    "Huh? So we need a real number $x$ such that $x^2 = -1$...?\n",
    "\n",
    "<p style=\"text-align: justify;\">\n",
    "This is where complex numbers get introduced. As we've just discovered, if we're working with just *real numbers*, things like $0, 2.4, -47, \\pi^2 / e$, then not every equation with real numbers has a solution that's also a real number. One of the most remarkable proofs in all of mathematics is Gauss's *Fundamental Theorem of Algebra*, which states that the complex numbers are algebraically closed. What does this mean? It means that every algebraic equation with complex numbers has a solution that's also a complex number. This extremely interesting result is why we care about complex numbers in the first place!\n",
    "</p>\n",
    "\n",
    "We won't need this theorem here but rather state it as a way of motivating complex numbers. The following properties are the important ones for quantum physics."
   ]
  },
  {
   "cell_type": "markdown",
   "metadata": {},
   "source": [
    "## <p style=\"text-align: center;\"> <font color=\"green\">Definition and Properties</font> </p>"
   ]
  },
  {
   "cell_type": "markdown",
   "metadata": {},
   "source": [
    "The <b><font color=\"green\">imaginary unit</font></b>, which we'll denote $i$, is defined by the property that $i^2 = -1$. A <b><font color=\"green\">complex number</font></b>, which we'll represent by Greek letters like $\\alpha$ (Greek letter <i>alpha</i>, pronounced \"AL-fuh\") and $\\beta$ (Greek letter beta, pronounced \"BAY-tuh\"), has the form\n",
    "\n",
    "\\begin{equation}\n",
    "    \\alpha = a + b i\n",
    "\\end{equation}\n",
    "\n",
    "where $a$ and $b$ are real numbers. The <b><font color=\"green\">addition of two complex numbers</font></b> is defined as\n",
    "\n",
    "\\begin{equation}\n",
    "        \\alpha + \\beta = (a + b i) + (c + d i) := (a + c) + (b + d)i ,\n",
    "\\end{equation}\n",
    "\n",
    "and <b><font color=\"green\">multiplication</font></b> is carried out in the usual way, remembering that $i^2 := -1$:\n",
    "\n",
    "\\begin{equation}\n",
    "    \\alpha \\beta = (a + b i) (c + d i) := (a c - b d) + (a d + b c) i . \n",
    "\\end{equation}\n",
    "\n",
    "We define the <b><font color=\"green\">complex conjugate</font></b> of a complex number $\\alpha = a + bi$ to be\n",
    "\n",
    "\\begin{equation}\n",
    "    \\alpha^* := a - bi .\n",
    "\\end{equation}\n",
    "\n",
    "(That is, we flip the sign of the imaginary part.) The <b><font color=\"green\">modulus squared</font></b> of $\\alpha$ is defined to be the product of itself with its complex conjugate:\n",
    "\n",
    "\\begin{equation}\n",
    "    |\\alpha|^2 := \\alpha^* \\alpha = a^2 + b^2\n",
    "\\end{equation}\n",
    "\n",
    "As you might guess, the <b><font color=\"green\">modulus</font></b> is just the square root of the modulus squared."
   ]
  },
  {
   "cell_type": "markdown",
   "metadata": {},
   "source": [
    "## <p style=\"text-align: center;\"> <font color=\"green\">Working with Complex Numbers</font> </p>"
   ]
  },
  {
   "cell_type": "code",
   "execution_count": null,
   "metadata": {},
   "outputs": [],
   "source": [
    "\"\"\"Working with complex numbers in Python.\"\"\"\n",
    "# define two complex numbers\n",
    "alpha = 1 + 2j\n",
    "beta = 3 - 4j\n",
    "\n",
    "# TODO: print out the type of alpha and beta here!\n",
    "print(type(alpha))\n",
    "\n",
    "# TODO: print out the sum of a and b here!\n",
    "print(alpha + beta)\n",
    "\n",
    "# TODO: print out the complex conjugate of a and b here!\n",
    "print(alpha.conjugate())\n",
    "print(beta.conjugate())\n",
    "\n",
    "# TODO: print out the modulus squared of a and b here!\n",
    "print(abs(alpha)**2) # or print(a.conjugate() * a)\n",
    "print(abs(beta)**2) # or print(b.conjugate() * b)"
   ]
  },
  {
   "cell_type": "markdown",
   "metadata": {},
   "source": [
    "# <p style=\"text-align: center;\"> Secret #3: <font color=\"blue\">Linear Algebra</font> </p>"
   ]
  },
  {
   "cell_type": "markdown",
   "metadata": {},
   "source": [
    "The last secret to understanding quantum computing is linear algebra, which deals with the mathematics of <b><font color=\"blue\">vectors</font></b>. What's a vector? Sounds pretty fancy, but it's really nothing more than a list of numbers. The numbers could be real, complex, or really anything you wish (integers, etc.).\n",
    "\n",
    "<p style=\"text-align: justify;\">\n",
    "To not confuse ourselves, we should use a symbol for vectors that's different than symbols used for ordinary numbers. You might see mathematicians use boldface characters like $\\mathbf{v}$, but since we're talking about quantum physics, we'll use the physicist notation $|v\\rangle$. The brackets $|\\,\\rangle$ are called a \"ket\", which means that it's a vector we're talking about. Anything inside the ket, here a $v$, serves as our label for the vector.\n",
    "</p>\n",
    "\n",
    "OK, enough chit-chat, here's an example of a vector, which I'll call $|0\\rangle$:\n",
    "\n",
    "\\begin{equation}\n",
    "    |0\\rangle := \\left[ \\begin{matrix}\n",
    "    1 \\\\\n",
    "    0 \\\\\n",
    "    \\end{matrix} \\right]\n",
    "\\end{equation}\n",
    "\n",
    "Not so bad, right? This vector has two numbers, or <b><font color=\"blue\">amplitudes</font></b>. Why did I pick 0 as a label? Well, the zeroth number (amplitude) is a one and all the other numbers (amplitudes) are zero. Can you guess how I'd define $|1\\rangle$?\n",
    "\n",
    "Exactly! We define $|1\\rangle$ to be the vector whose first amplitude is a one and all other amplitudes are zero.\n",
    "\n",
    "\\begin{equation}\n",
    "    |1\\rangle := \\left[ \\begin{matrix}\n",
    "    0 \\\\\n",
    "    1 \\\\\n",
    "    \\end{matrix} \\right]\n",
    "\\end{equation}\n",
    "\n",
    "These two particular vectors are important because they allow us to \"generate\" any other vector by taking a linear combination of them. What's a linear combination? I'm glad you asked!"
   ]
  },
  {
   "cell_type": "markdown",
   "metadata": {},
   "source": [
    "## <p style=\"text-align: center;\"> <font color=\"blue\">Linear Combinations and Vector Norms</font> </p>"
   ]
  },
  {
   "cell_type": "markdown",
   "metadata": {},
   "source": [
    "Watch this short video introducing the idea of <b><font color=\"blue\">linear combinations</font></b>, also called <b><font color=\"blue\">superpositions</font></b>, of vectors as well as <b><font color=\"blue\">vector norms</font></b>."
   ]
  },
  {
   "cell_type": "code",
   "execution_count": null,
   "metadata": {},
   "outputs": [],
   "source": [
    "YouTubeVideo()"
   ]
  },
  {
   "cell_type": "markdown",
   "metadata": {},
   "source": [
    "<u>To recap the video</u>:\n",
    "\n",
    "A <b><font color=\"blue\">linear combination</font></b>, or <b><font color=\"blue\">superposition</font></b>, of vectors is a new vector of the form\n",
    "\n",
    "\\begin{equation}\n",
    "    \\alpha |v_0\\rangle + \\beta |v_1\\rangle .\n",
    "\\end{equation}\n",
    "\n",
    "The squared <b><font color=\"blue\">2 norm</font></b> of a vector is the sum over the squared moduli of all amplitudes. If \n",
    "\n",
    "\\begin{equation}\n",
    "    |\\psi\\rangle = \\left[ \\begin{matrix}\n",
    "    \\alpha \\\\\n",
    "    \\beta \\\\\n",
    "    \\end{matrix} \\right],\n",
    "\\end{equation}\n",
    "\n",
    "then the squared 2-norm of $|\\psi\\rangle$ is \n",
    "\n",
    "\\begin{equation}\n",
    "    | |\\psi\\rangle|_2^2 = |\\alpha|^2 + |\\beta|^2 .\n",
    "\\end{equation}"
   ]
  },
  {
   "cell_type": "markdown",
   "metadata": {},
   "source": [
    "## <p style=\"text-align: center;\"> <font color=\"blue\">Working with Vectors</font> </p>"
   ]
  },
  {
   "cell_type": "code",
   "execution_count": null,
   "metadata": {},
   "outputs": [],
   "source": [
    "\"\"\"Using numpy to perform vector operations.\"\"\"\n",
    "# the |0> == zero and |1> == one vectors from above\n",
    "zero = np.array([1, 0], dtype=np.complex64)\n",
    "one = np.array([0, 1], dtype=np.complex64)\n",
    "\n",
    "print(\"|0> =\", zero)\n",
    "print(\"|1> =\", one)"
   ]
  },
  {
   "cell_type": "code",
   "execution_count": null,
   "metadata": {},
   "outputs": [],
   "source": [
    "\"\"\"Exercise: complete this cell!\"\"\"\n",
    "# some complex numbers\n",
    "alpha = 1 + 1j        # greek letter, pronounced AL-fuh\n",
    "beta = 1 - 1j         # greek letter, pronounced BAY-tuh\n",
    "\n",
    "# TODO: normalize the above complex numbers\n",
    "alpha_normalized = alpha / abs(alpha)\n",
    "beta_normalized = beta / abs(beta)\n",
    "\n",
    "print(alpha_normalized)\n",
    "print(beta_normalized)"
   ]
  },
  {
   "cell_type": "code",
   "execution_count": null,
   "metadata": {},
   "outputs": [],
   "source": [
    "\"\"\"Exercise: complete this cell!\"\"\"\n",
    "# print out the sum of zero and one\n",
    "print(zero + one)\n",
    "\n",
    "# compute and print out alpha_normalized * |0>\n",
    "print(alpha_normalized * zero)\n",
    "\n",
    "# compute and print out beta_normalized * |1>\n",
    "print(beta_normalized * one)\n",
    "\n",
    "# compute and print out the sum alpha_normalized * |0> + beta_normalized * |1>\n",
    "qubit = alpha_normalized * zero + beta_normalized * one\n",
    "print(qubit)"
   ]
  },
  {
   "cell_type": "markdown",
   "metadata": {},
   "source": [
    "# <p style=\"text-align: center;\"> All Secrets Combined = Quantum Mechanics </p>"
   ]
  },
  {
   "cell_type": "markdown",
   "metadata": {},
   "source": [
    "And now for the punchline...\n",
    "\n",
    "Congratulations! You now understand what a <b>wavefunction</b> is in quantum physics. A wavefunction is a <b><font color=\"blue\">vector</font></b> (secret #3!) of <b><font color=\"green\">complex numbers</font></b> (secret #2!) that determine the <b><font color=\"red\">probability</font></b> (secret #1!) of finding the system in a particular state.\n",
    "\n",
    "Let's say I have a particle in a box (that's the <b>system</b>) that can have two (and only two) energies: a lower energy and a higher energy (those are the <b>states</b>). Quantum physics represents the state of this particle by a <b><font color=\"blue\">vector</font></b> called it's wavefunction, commonly labeled by the Greek letter psi (pronounced \"sigh\"):\n",
    "\n",
    "\\begin{equation}\n",
    "    |\\psi\\rangle = \\left[ \\begin{matrix}\n",
    "    \\alpha \\\\\n",
    "    \\beta \\\\\n",
    "    \\end{matrix} \\right] .\n",
    "\\end{equation}\n",
    "\n",
    "Here, $\\alpha$ and $\\beta$ are <b><font color=\"green\">complex numbers</font></b>. Quantum physics says that the modulus squared of $\\alpha$ is the <b><font color=\"red\">probability</font></b> of finding the particle in the lower energy state.\n",
    "\n",
    "\\begin{equation}\n",
    "    p(\\text{low energy}) = |\\alpha|^2\n",
    "\\end{equation}\n",
    "\n",
    "Similarly, the modulus squared of $\\beta$ is the probability of finding the particle in the higher energy state.\n",
    "\n",
    "\\begin{equation}\n",
    "    p(\\text{high energy}) = |\\beta|^2\n",
    "\\end{equation}\n",
    "\n",
    "Because of our fundamental rule for probabilities, we better have the sum of these probabilities equal to one, since they're the only two outcomes. Mathematically,\n",
    "\n",
    "\\begin{equation}\n",
    "    |\\alpha|^2 + |\\beta|^2 = 1.\n",
    "\\end{equation}\n",
    "\n",
    "(Compare the coin flip example from above!)\n",
    "\n",
    "<p style=\"text-align: justify;\">\n",
    "So, the wavefunction is a tool for helping us compute what the state of a quantum mechanical particle is. Mathematically, it's pretty simple, right?! However, when you try to <i>talk</i> about a wavefunction to someone who doesn't know the mathematics, it sounds a little weird. (It's also weird that we're talking about <i>probabilities</i>, but hey, quantum mechanics has been experimentally verified many many times.) This is where most of the \"confusion\" about quantum physics comes in -- our inability to speak about it. The ability to <i>do</i> quantum physics is something all physicists have -- now including you! Congrats!\n",
    "</p>"
   ]
  },
  {
   "cell_type": "markdown",
   "metadata": {},
   "source": [
    "# <p style=\"text-align: center;\"> Assignment Wrapup </p>"
   ]
  },
  {
   "cell_type": "markdown",
   "metadata": {},
   "source": [
    "## <p style=\"text-align: center;\"> Installing Qiskit"
   ]
  },
  {
   "cell_type": "markdown",
   "metadata": {},
   "source": [
    "For tomorrow's in-class assignment, we'll be using the Quantum Information Science Kit, or <a href=\"https://qiskit.org/\">Qiskit</a>, to learn more about quantum computing. Try to install Qiskit on your computer now by executing the following cell:"
   ]
  },
  {
   "cell_type": "code",
   "execution_count": null,
   "metadata": {},
   "outputs": [],
   "source": [
    "\"\"\"Attempt to install QISKit using pip. Uncomment the following two lines and run the cell.\"\"\"\n",
    "# !pip install --upgrade pip\n",
    "# !pip install qiskit"
   ]
  },
  {
   "cell_type": "markdown",
   "metadata": {},
   "source": [
    "If you run into any problems, we're here to help in tomorrow's class, or you can ask us in the Slack channel. If you're interested, take some time now to read the <a href=\"https://qiskit.org/documentation/\">documentation</a>."
   ]
  },
  {
   "cell_type": "markdown",
   "metadata": {},
   "source": [
    "## <p style=\"text-align: center;\"> Survey </p>"
   ]
  },
  {
   "cell_type": "code",
   "execution_count": null,
   "metadata": {
    "scrolled": true
   },
   "outputs": [],
   "source": [
    "HTML(\n",
    "\"\"\"\n",
    "<iframe \n",
    "\tsrc=\"https://goo.gl/forms/n00m87at8mHLAbZN2\" \n",
    "\twidth=\"80%\" \n",
    "\theight=\"1200px\" \n",
    "\tframeborder=\"0\" \n",
    "\tmarginheight=\"0\" \n",
    "\tmarginwidth=\"0\">\n",
    "\tLoading...\n",
    "</iframe>\n",
    "\"\"\"\n",
    ")"
   ]
  },
  {
   "cell_type": "markdown",
   "metadata": {},
   "source": [
    "## <p style=\"text-align: center;\"> Congrats, You're Finished! </p>"
   ]
  },
  {
   "cell_type": "markdown",
   "metadata": {},
   "source": [
    "Now, you just need to submit this assignment by uploading it to the course <a href=\"https://d2l.msu.edu/\">Desire2Learn</a> web page for today's submission folder (Don't forget to add your name in the first cell)."
   ]
  },
  {
   "cell_type": "markdown",
   "metadata": {},
   "source": [
    "<p style=\"text-align: right;\"><b>&#169; Copyright 2019, Michigan State University Board of Trustees.</b></p>"
   ]
  }
 ],
 "metadata": {
  "kernelspec": {
   "display_name": "Python 3",
   "language": "python",
   "name": "python3"
  },
  "language_info": {
   "codemirror_mode": {
    "name": "ipython",
    "version": 3
   },
   "file_extension": ".py",
   "mimetype": "text/x-python",
   "name": "python",
   "nbconvert_exporter": "python",
   "pygments_lexer": "ipython3",
   "version": "3.6.8"
  }
 },
 "nbformat": 4,
 "nbformat_minor": 2
}
