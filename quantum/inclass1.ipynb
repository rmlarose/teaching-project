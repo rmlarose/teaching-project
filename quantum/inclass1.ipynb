{
 "cells": [
  {
   "cell_type": "markdown",
   "metadata": {},
   "source": [
    "<p style=\"text-align: right;\"> &#9989; Put your name here</p>"
   ]
  },
  {
   "cell_type": "markdown",
   "metadata": {},
   "source": [
    "# <p style=\"text-align: center;\"> In-Class Assignment X: Information in Classical and Quantum Bits </p>"
   ]
  },
  {
   "cell_type": "markdown",
   "metadata": {},
   "source": [
    "In the pre-class assignment, we covered some background topics needed to understand quantum physics and quantum computing. At the end, we learned the concept of a <b>wavefunction</b> in quantum physics. Today, we'll see how quantum physics can encode information differently that classical physics, which will lead us to the idea of using the laws of quantum physics to do computation."
   ]
  },
  {
   "cell_type": "markdown",
   "metadata": {},
   "source": [
    "## <p style=\"text-align: center;\"> Itinerary </p>"
   ]
  },
  {
   "cell_type": "markdown",
   "metadata": {},
   "source": [
    "<table align=\"center\" style=\"width:50%\">\n",
    "  <tr>\n",
    "    <td style=\"text-align:center\"><b>Assignment</b></td>\n",
    "    <td style=\"text-align:center\"><b>Topic</b></td>\n",
    "  </tr>\n",
    "  <tr>\n",
    "    <td style=\"text-align:center\">Background for Quantum Computing</td>\n",
    "    <td style=\"text-align:center\">Probability, Complex Numbers, Linear Algebra</td>\n",
    "  </tr>\n",
    "  <tr>\n",
    "    <td bgcolor=\"yellow\" style=\"text-align:center\">Information in Quantum States</td>\n",
    "    <td bgcolor=\"yellow\" style=\"text-align:center\">Classsical and Quantum Bits</td>\n",
    "  </tr>\n",
    "  <tr>\n",
    "    <td style=\"text-align:center\">The Circuit Model of Quantum Computing</td>\n",
    "    <td style=\"text-align:center\">Quantum Gates and Measurements</td>\n",
    "  </tr>\n",
    "  <tr>\n",
    "    <td style=\"text-align:center\">Quantum Algorithms</td>\n",
    "    <td style=\"text-align:center\">Manipulating Quantum Bits to Perform Useful Computations</td>\n",
    "  </tr>\n",
    "  <tr>\n",
    "    <td style=\"text-align:center\">Homework</td>\n",
    "    <td style=\"text-align:center\">Writing Quantum Algorithms</td>\n",
    "  </tr>\n",
    "</table>"
   ]
  },
  {
   "cell_type": "markdown",
   "metadata": {},
   "source": [
    "## <p style=\"text-align: center;\"> Learning Goals for Today's In-Class Assignment </p>"
   ]
  },
  {
   "cell_type": "markdown",
   "metadata": {},
   "source": [
    "The purpose of this notebook is to understand how bits are used in classical computers and how qubits are used in quantum computers. In particular, by the end of today's assignment, you should:\n",
    "\n",
    "1. Know the difference between a bit and a qubit.\n",
    "1. Know how information is stored and retrieved from bits.\n",
    "1. Know how information is stored and retrieved from qubits.\n",
    "1. Write down the general state of a qubit.\n",
    "\n",
    "And don't forget the <b>most important goal</b> of all these quantum computing assignments: <i>Realize how much you can learn, understand, and do with computational modeling.</i>"
   ]
  },
  {
   "cell_type": "markdown",
   "metadata": {},
   "source": [
    "## <p style=\"text-align: center;\"> Recap of the Pre-Class Assignment </p>"
   ]
  },
  {
   "cell_type": "markdown",
   "metadata": {},
   "source": [
    "In the pre-class assignment, we covered the following topics.\n",
    "\n",
    "1. <b><font color=\"red\">Probability.</font></b>\n",
    "1. <b><font color=\"green\">Complex Numbers.</font></b>\n",
    "1. <b><font color=\"blue\">Linear Algebra.</font></b>\n",
    "\n",
    "To briefly recap, a <b><font color=\"red\">probability distribution</font></b> is a list of numbers (or vector, now that we know what that is) that add up to one. \n",
    "\n",
    "A <b><font color=\"green\">complex number</font></b> has real and imaginary parts and a complex conjugate that allows us to compute it's squared modulus.\n",
    "\n",
    "A <b><font color=\"blue\">vector</font></b> is a list of numbers that we can form linear combinations, or superpositions, with. We can also compute the squared norm of vectors."
   ]
  },
  {
   "cell_type": "markdown",
   "metadata": {},
   "source": [
    "<b>Question:</b> Is this a valid probability distribution?"
   ]
  },
  {
   "cell_type": "code",
   "execution_count": 1,
   "metadata": {},
   "outputs": [],
   "source": [
    "\"\"\"Exercise: is this a valid probability distribution?\"\"\"\n",
    "import numpy as np\n",
    "distribution = np.array([0.6, 0.4])"
   ]
  },
  {
   "cell_type": "markdown",
   "metadata": {},
   "source": [
    "<font size=8 color=\"#009600\">&#9998;</font> **Answer:** Erase the contents of this cell and put your answer here!"
   ]
  },
  {
   "cell_type": "markdown",
   "metadata": {},
   "source": [
    "<b>Question:</b> If you answered yes, what could this probability distribution represent?"
   ]
  },
  {
   "cell_type": "markdown",
   "metadata": {},
   "source": [
    "<font size=8 color=\"#009600\">&#9998;</font> **Answer:** Erase the contents of this cell and put your answer here!"
   ]
  },
  {
   "cell_type": "markdown",
   "metadata": {},
   "source": [
    "<b>Question:</b> What's the complex conjugate and squared modulus of\n",
    "\n",
    "\\begin{equation}\n",
    "    \\alpha = 2 + 4i?\n",
    "\\end{equation}"
   ]
  },
  {
   "cell_type": "markdown",
   "metadata": {},
   "source": [
    "<font size=8 color=\"#009600\">&#9998;</font> **Answer:** Write code in the following cell to answer the above question."
   ]
  },
  {
   "cell_type": "code",
   "execution_count": 2,
   "metadata": {},
   "outputs": [
    {
     "name": "stdout",
     "output_type": "stream",
     "text": [
      "(2-4j)\n",
      "20.000000000000004\n"
     ]
    }
   ],
   "source": [
    "\"\"\"Exercise: compute the complex conjugate and squared modulus of the given complex number.\"\"\"\n",
    "# complex number\n",
    "alpha = 2 + 4j\n",
    "\n",
    "# TODO: compute and print out the complex conjugate\n",
    "print(alpha.conjugate())\n",
    "\n",
    "# TODO: compute and print out the squared modulus\n",
    "print(abs(alpha)**2)"
   ]
  },
  {
   "cell_type": "markdown",
   "metadata": {},
   "source": [
    "# <p style=\"text-align: center;\"> Classical Units of Information </p>"
   ]
  },
  {
   "cell_type": "markdown",
   "metadata": {},
   "source": [
    "What's information? One can get very philosophical with that question, but here we'll stick with the practical definition (we're computational scientists, after all!) that <b>information</b> is something that tells us something. Well, that's a lot of \"something's,\" what do we mean exactly?\n",
    "\n",
    "The first \"something\" is usually a physical system, like a light switch, for example. The light switch can be either up or down, on or off -- that's the second \"something.\" By looking at the lightswitch or observing the light it controls, we learn something about it, namely whether it's on or off. It tells us a piece of <b>information</b>.\n",
    "\n",
    "<b>Question:</b> Well, that's only two states. Wouldn't we need more to encode more valuable information?\n",
    "\n",
    "<b>Answer:</b> No! I claim we can encode any amount of information using only bits. Why? Consider the following exercise. (Note the plural bit<i>s</i>.)"
   ]
  },
  {
   "cell_type": "markdown",
   "metadata": {},
   "source": [
    "<b>Question:</b> How can you encode one letter of the alphabet (a, b, c, ..., x, y, z) using only bits? How many bits do you need at minimum?"
   ]
  },
  {
   "cell_type": "markdown",
   "metadata": {},
   "source": [
    "<font size=8 color=\"#009600\">&#9998;</font> **Answer:** Erase the contents of this cell and put your answer here!"
   ]
  },
  {
   "cell_type": "markdown",
   "metadata": {},
   "source": [
    "Ok, so we can get by with only bits--that's pretty exciting! It simplifies the physical system we need to store information quite a bit (pun intended)."
   ]
  },
  {
   "cell_type": "markdown",
   "metadata": {},
   "source": [
    "<b>Question:</b> Think of other physical systems that we could use to represent bits of information. List as many as you can (at least three)."
   ]
  },
  {
   "cell_type": "markdown",
   "metadata": {},
   "source": [
    "<font size=8 color=\"#009600\">&#9998;</font> **Answer:** Erase the contents of this cell and put your answer here!"
   ]
  },
  {
   "cell_type": "markdown",
   "metadata": {},
   "source": [
    "## <p style=\"text-align: center;\"> Writing a Bit Class </p>"
   ]
  },
  {
   "cell_type": "markdown",
   "metadata": {},
   "source": [
    "Now that we know what binary digits are and how to use them to represent information (like letters in the alphabet), let's do a <i>bit</i> of coding (Okay I'm done, I promise). Specifically, let's code up a `Bit` class to understand them better. A skeleton of the class is provided below, with some methods implemented, which you should not change."
   ]
  },
  {
   "cell_type": "code",
   "execution_count": 28,
   "metadata": {},
   "outputs": [],
   "source": [
    "\"\"\"Code cell with a bit class. Keep your class here and modify it as you work through the notebook. \n",
    "A skeleton of the class is provided for you.\"\"\"\n",
    "\n",
    "# ANSWER: final class after completing all instructions\n",
    "class Bit():\n",
    "    \"\"\"Binary digit class.\"\"\"\n",
    "    \n",
    "    def __init__(self, initial_value=0):\n",
    "        \"\"\"Initialize a Bit to the 0 state.\"\"\"\n",
    "        self.value = initial_value\n",
    "    \n",
    "    def NOT(self):\n",
    "        \"\"\"Performs the NOT operation on the Bit.\"\"\"\n",
    "        self.value = (self.value + 1) % 2\n",
    "\n",
    "    def measure(self):\n",
    "        \"\"\"Returns the value of the Bit.\"\"\"\n",
    "        return self.value\n",
    "    \n",
    "    def copy(self):\n",
    "        \"\"\"Returns a copy of the current bit.\"\"\"\n",
    "        return Bit(self.value)\n",
    "\n",
    "    def display_value(self):# <-- do not modify this method\n",
    "        \"\"\"Displays the value of the Bit.\"\"\"\n",
    "        print(\"The bit's value is \", self.value, \".\", sep=\"\")"
   ]
  },
  {
   "cell_type": "markdown",
   "metadata": {},
   "source": [
    "Of course every bit has a value, either one or zero, on or off. Let's agree by convention to always start our bit in the \"off\" state, represented by 0."
   ]
  },
  {
   "cell_type": "markdown",
   "metadata": {},
   "source": [
    "<font size=8 color=\"#009600\">&#9998;</font> Do the following to your class:\n",
    "\n",
    "(1) For `__init__`, create a keyword argument called `initial_value` whose default value is 0. Create a class attribute called `value` and set it to be `initial_value`."
   ]
  },
  {
   "cell_type": "code",
   "execution_count": 29,
   "metadata": {},
   "outputs": [
    {
     "name": "stdout",
     "output_type": "stream",
     "text": [
      "The bit's value is 0.\n"
     ]
    }
   ],
   "source": [
    "\"\"\"Create a bit and display it's value.\"\"\"\n",
    "b = Bit()\n",
    "b.display_value()"
   ]
  },
  {
   "cell_type": "markdown",
   "metadata": {},
   "source": [
    "<font size=8 color=\"#009600\">&#9998;</font> Do the following to your class:\n",
    "\n",
    "(2) Write a method called `measure` which returns the `value` of the bit."
   ]
  },
  {
   "cell_type": "markdown",
   "metadata": {},
   "source": [
    "Now run the following code block."
   ]
  },
  {
   "cell_type": "code",
   "execution_count": 30,
   "metadata": {},
   "outputs": [
    {
     "name": "stdout",
     "output_type": "stream",
     "text": [
      "The bit's value is 0.\n",
      "The measured state of the bit is 0\n"
     ]
    }
   ],
   "source": [
    "\"\"\"Create a bit, display its value, and print out its state.\"\"\"\n",
    "b = Bit()\n",
    "b.display_value()\n",
    "print(\"The measured state of the bit is {}\".format(b.measure()))"
   ]
  },
  {
   "cell_type": "markdown",
   "metadata": {},
   "source": [
    "I know what you're thinking! \"Well duh! The measured state of a bit is just going to be it's value...\"\n",
    "\n",
    "Hold that thought! We're going to see a BIG difference when we talk about quantum bits.\n",
    "\n",
    "First, let's talk about the operations we can perform on a bit."
   ]
  },
  {
   "cell_type": "markdown",
   "metadata": {},
   "source": [
    "### <p style=\"text-align: center;\"> Operations on a Bit </p>"
   ]
  },
  {
   "cell_type": "markdown",
   "metadata": {},
   "source": [
    "There's only one non-trivial operation that can be performed on a bit -- negating, or flipping, its value. We'll call this operation the `NOT` operation, which has the following effect:\n",
    "\n",
    "\\begin{align}\n",
    "    \\text{NOT(0)} &= 1 \\\\\n",
    "    \\text{NOT(1)} &= 0\n",
    "\\end{align}"
   ]
  },
  {
   "cell_type": "markdown",
   "metadata": {},
   "source": [
    "<font size=8 color=\"#009600\">&#9998;</font> Do the following to your class:\n",
    "\n",
    "(3) Define a method called `NOT` which negates the `value` of the bit."
   ]
  },
  {
   "cell_type": "markdown",
   "metadata": {},
   "source": [
    "Now run the following code with your class."
   ]
  },
  {
   "cell_type": "code",
   "execution_count": 32,
   "metadata": {
    "scrolled": true
   },
   "outputs": [
    {
     "name": "stdout",
     "output_type": "stream",
     "text": [
      "The bit's value is 0.\n",
      "The measured state of the bit is 0.\n",
      "\n",
      "The bit's value is 1.\n",
      "The measured state of the bit is 1.\n",
      "\n",
      "The bit's value is 0.\n",
      "The measured state of the bit is 0.\n",
      "\n"
     ]
    }
   ],
   "source": [
    "\"\"\"Perform operations on a bit.\"\"\"\n",
    "# create a bit\n",
    "b = Bit()\n",
    "b.display_value()\n",
    "print(\"The measured state of the bit is {}.\\n\".format(b.measure()))\n",
    "\n",
    "# apply a NOT operation\n",
    "b.NOT()\n",
    "b.display_value()\n",
    "print(\"The measured state of the bit is {}.\\n\".format(b.measure()))\n",
    "\n",
    "# apply another NOT operation\n",
    "b.NOT()\n",
    "b.display_value()\n",
    "print(\"The measured state of the bit is {}.\\n\".format(b.measure()))"
   ]
  },
  {
   "cell_type": "markdown",
   "metadata": {},
   "source": [
    "Note that applying two `NOT` gates in a row gets us back to the same state, as you might expect.\n",
    "\n",
    "We can certainly do more operations with multiple bits of information. For example, if we have two bits, we can take the `AND` or the `OR` of them. The `AND` takes in two bits and returns one bit with a value of one if both input bits are one and zero otherwise. The `OR` returns one if <i>either</i> or both of of the input bits is one.\n",
    "\n",
    "Operations on multiple bits are crucial for information processing (i.e., computation), but for simplicity we won't discuss them in more detail here. \n",
    "\n",
    "One reason we do mention multiple bits is for copying information, another crucial component of (classical) computation."
   ]
  },
  {
   "cell_type": "markdown",
   "metadata": {},
   "source": [
    "## <p style=\"text-align: center;\"> Copying Bits </p>"
   ]
  },
  {
   "cell_type": "markdown",
   "metadata": {},
   "source": [
    "<b>Question:</b> How do you copy one bit into another bit?\n",
    "\n",
    "<b>Answer:</b> Uhhh... You just do it?\n",
    "\n",
    "Correct! We can copy a single classical bit into as many bits as we want. How? Well, we just look at the bit, record its value, then prepare another bit with that value."
   ]
  },
  {
   "cell_type": "markdown",
   "metadata": {},
   "source": [
    "<font size=8 color=\"#009600\">&#9998;</font> Do the following to your class:\n",
    "\n",
    "(4) Define a method called `copy` which copies the `value` of the `Bit` to a new `Bit` and returns that `Bit`."
   ]
  },
  {
   "cell_type": "code",
   "execution_count": 35,
   "metadata": {},
   "outputs": [
    {
     "name": "stdout",
     "output_type": "stream",
     "text": [
      "The bit's value is 0.\n",
      "The bit's value is 0.\n",
      "False\n"
     ]
    }
   ],
   "source": [
    "\"\"\"Copy a bit.\"\"\"\n",
    "b = Bit()\n",
    "new_bit = b.copy()\n",
    "\n",
    "b.display_value()\n",
    "new_bit.display_value()\n",
    "\n",
    "print(b == new_bit)"
   ]
  },
  {
   "cell_type": "markdown",
   "metadata": {},
   "source": [
    "You may think that this notebook is getting more and more outrageous! Why is it even a question of how to copy a bit of information?!\n",
    "\n",
    "We highlighted this feature, as well as the others, to now contrast bits with <i>qu</i>bits."
   ]
  },
  {
   "cell_type": "markdown",
   "metadata": {},
   "source": [
    "# <p style=\"text-align: center;\"> Quantum Units of Information </p>"
   ]
  },
  {
   "cell_type": "code",
   "execution_count": 27,
   "metadata": {},
   "outputs": [],
   "source": [
    "# ANSWER: complete class# <p style=\"text-align: center;\"> Quantum Units of Information </p>\n",
    "class Qubit():\n",
    "    \"\"\"Quantum bit class.\"\"\"\n",
    "    \n",
    "    def __init__(self, initial_state=0):\n",
    "        \"\"\"Initializes a Qubit to the ground state |0>.\"\"\"\n",
    "        self.wavefunction = np.array([1, 0], dtype=np.complex64)\n",
    "\n",
    "    def norm(self):\n",
    "        \"\"\"Returns the norm of the Qubit.\"\"\"\n",
    "        return np.linalg.norm(self.wavefunction)\n",
    "\n",
    "    def NOT(self):\n",
    "        \"\"\"Performs a NOT operation on the Qubit's wavefunction.\"\"\"\n",
    "        self.wavefunction[0], self.wavefunction[1] = self.wavefunction[1], self.wavefunction[0]\n",
    "\n",
    "    def H(self):\n",
    "        \"\"\"Performs a Hadamard operation on the Qubit's wavefunction\"\"\"\n",
    "        hmat = 1 / np.sqrt(2) * np.array([[1, 1], [1, -1]], dtype=np.complex64)\n",
    "        self.wavefunction = np.dot(hmat, self.wavefunction)\n",
    "\n",
    "    def state(self):\n",
    "        \"\"\"Measures the Qubit and returns what the state is.\"\"\"\n",
    "        prob_ground_state = abs(self.wavefunction[0])\n",
    "        if np.random.uniform() < prob_ground_state:\n",
    "            print(\"The Qubit is in the ground state 0.\")\n",
    "        else:\n",
    "            print(\"The Qubit is in the excited state 1.\")\n",
    "\n",
    "    def display_wavefunction(self):\n",
    "        print(\"The Qubit's wavefunction is\", self.wavefunction)\n",
    "        print(\"The norm of the wavefunction is\", self.norm())"
   ]
  },
  {
   "cell_type": "code",
   "execution_count": null,
   "metadata": {},
   "outputs": [],
   "source": [
    "# Initialize a qubit\n",
    "q = Qubit(0)\n",
    "q.display_wavefunction()\n",
    "q.state()\n",
    "print()\n",
    "\n",
    "q.NOT()\n",
    "q.display_wavefunction()\n",
    "q.state()\n",
    "print()\n",
    "\n",
    "q.NOT()\n",
    "q.display_wavefunction()\n",
    "q.state()\n",
    "print()\n",
    "\n",
    "q.H()\n",
    "q.display_wavefunction()\n",
    "q.state()"
   ]
  },
  {
   "cell_type": "code",
   "execution_count": null,
   "metadata": {},
   "outputs": [],
   "source": []
  },
  {
   "cell_type": "code",
   "execution_count": null,
   "metadata": {},
   "outputs": [],
   "source": []
  },
  {
   "cell_type": "code",
   "execution_count": null,
   "metadata": {},
   "outputs": [],
   "source": []
  },
  {
   "cell_type": "markdown",
   "metadata": {},
   "source": []
  },
  {
   "cell_type": "code",
   "execution_count": null,
   "metadata": {},
   "outputs": [],
   "source": [
    "\"\"\"Imports for the notebook.\"\"\"\n",
    "import qiskit"
   ]
  },
  {
   "cell_type": "code",
   "execution_count": null,
   "metadata": {},
   "outputs": [],
   "source": [
    "\"\"\"Get a quantum bit and a classical bit.\"\"\"\n",
    "qubit = qiskit.QuantumRegister(1)\n",
    "bit = qiskit.ClassicalRegister(1)\n",
    "circuit = qiskit.QuantumCircuit(qubit, bit)\n",
    "\n",
    "circuit.draw()"
   ]
  },
  {
   "cell_type": "code",
   "execution_count": null,
   "metadata": {},
   "outputs": [],
   "source": [
    "\"\"\"Add operations to the circuit and draw it.\"\"\"\n",
    "circuit.h(qubit)\n",
    "circuit.measure(qubit, bit)\n",
    "circuit.draw()"
   ]
  },
  {
   "cell_type": "code",
   "execution_count": null,
   "metadata": {
    "scrolled": true
   },
   "outputs": [],
   "source": [
    "\"\"\"Run the circuit and print the results.\"\"\"\n",
    "backend = qiskit.Aer.get_backend(\"qasm_simulator\")\n",
    "job = qiskit.execute(circuit, backend, shots=100)\n",
    "\n",
    "result = job.result()\n",
    "result.get_statevector(circuit, decimals=3)\n",
    "#result.get_counts()"
   ]
  },
  {
   "cell_type": "code",
   "execution_count": null,
   "metadata": {},
   "outputs": [],
   "source": [
    "\"\"\"New circuit implementing an rx operation instead of a hadamard.\"\"\"\n",
    "qubit = qiskit.QuantumRegister(1)\n",
    "bit = qiskit.ClassicalRegister(1)\n",
    "circuit = qiskit.QuantumCircuit(qubit, bit)\n",
    "\n",
    "circuit.rx(np.pi / 2, qubit)\n",
    "circuit.measure(qubit, bit)\n",
    "\n",
    "circuit.draw()"
   ]
  },
  {
   "cell_type": "code",
   "execution_count": null,
   "metadata": {},
   "outputs": [],
   "source": [
    "\"\"\"Execute the circuit and print the results\"\"\"\n",
    "result = qiskit.execute(circuit, backend, shots=100)\n",
    "\n",
    "out = result.result()\n",
    "out.get_counts()"
   ]
  },
  {
   "cell_type": "code",
   "execution_count": null,
   "metadata": {},
   "outputs": [],
   "source": []
  }
 ],
 "metadata": {
  "kernelspec": {
   "display_name": "Python 3",
   "language": "python",
   "name": "python3"
  },
  "language_info": {
   "codemirror_mode": {
    "name": "ipython",
    "version": 3
   },
   "file_extension": ".py",
   "mimetype": "text/x-python",
   "name": "python",
   "nbconvert_exporter": "python",
   "pygments_lexer": "ipython3",
   "version": "3.6.8"
  }
 },
 "nbformat": 4,
 "nbformat_minor": 2
}
